{
 "cells": [
  {
   "cell_type": "code",
   "execution_count": 1,
   "id": "28856090",
   "metadata": {},
   "outputs": [
    {
     "name": "stdout",
     "output_type": "stream",
     "text": [
      "23/02/25 06:08:39 WARN Utils: Your hostname, dengine resolves to a loopback address: 127.0.1.1; using 192.168.1.221 instead (on interface ens18)\n",
      "23/02/25 06:08:39 WARN Utils: Set SPARK_LOCAL_IP if you need to bind to another address\n"
     ]
    },
    {
     "name": "stderr",
     "output_type": "stream",
     "text": [
      "Setting default log level to \"WARN\".\n",
      "To adjust logging level use sc.setLogLevel(newLevel). For SparkR, use setLogLevel(newLevel).\n"
     ]
    },
    {
     "name": "stdout",
     "output_type": "stream",
     "text": [
      "23/02/25 06:08:40 WARN NativeCodeLoader: Unable to load native-hadoop library for your platform... using builtin-java classes where applicable\n"
     ]
    }
   ],
   "source": [
    "import pyspark\n",
    "from pyspark.sql import SparkSession\n",
    "\n",
    "spark = SparkSession.builder \\\n",
    "    .master(\"local[*]\") \\\n",
    "    .appName('test') \\\n",
    "    .getOrCreate()"
   ]
  },
  {
   "cell_type": "code",
   "execution_count": 18,
   "id": "afda9223",
   "metadata": {},
   "outputs": [],
   "source": [
    "df_green = spark.read.parquet('data/pq/green/*/*')"
   ]
  },
  {
   "cell_type": "code",
   "execution_count": 19,
   "id": "3d6f5bcc",
   "metadata": {},
   "outputs": [],
   "source": [
    "df_green.registerTempTable('green')"
   ]
  },
  {
   "cell_type": "code",
   "execution_count": 20,
   "id": "837b074a",
   "metadata": {},
   "outputs": [],
   "source": [
    "df_green_revenue = spark.sql(\"\"\"\n",
    "SELECT \n",
    "   date_trunc('hour', lpep_pickup_datetime) AS hour, \n",
    "   PULocationID AS zone,\n",
    "   \n",
    "   SUM(total_amount) AS amount,\n",
    "   COUNT(1) as number_records\n",
    "\n",
    "FROM green\n",
    "WHERE \n",
    "    lpep_pickup_datetime >= '2020-01-01'\n",
    "GROUP BY \n",
    "   1, 2\n",
    "\"\"\")"
   ]
  },
  {
   "cell_type": "code",
   "execution_count": 21,
   "id": "9fafb097",
   "metadata": {},
   "outputs": [
    {
     "name": "stderr",
     "output_type": "stream",
     "text": [
      "[Stage 27:===========================================>              (3 + 1) / 4]\r"
     ]
    },
    {
     "name": "stdout",
     "output_type": "stream",
     "text": [
      "+-------------------+----+------------------+--------------+\n",
      "|               hour|zone|            amount|number_records|\n",
      "+-------------------+----+------------------+--------------+\n",
      "|2020-01-04 18:00:00| 244|308.65000000000003|            13|\n",
      "|2020-01-19 18:00:00|  41| 578.6900000000002|            46|\n",
      "|2020-01-20 14:00:00| 166|            292.36|            21|\n",
      "|2020-01-07 18:00:00| 181|            297.29|            20|\n",
      "|2020-01-01 04:00:00| 181|200.82999999999998|            11|\n",
      "|2020-01-01 00:00:00| 255| 666.3399999999999|            28|\n",
      "|2020-01-23 22:00:00| 129|            272.85|            15|\n",
      "|2020-01-20 00:00:00| 223|             21.07|             3|\n",
      "|2020-01-26 01:00:00| 136|             65.22|             2|\n",
      "|2020-01-20 01:00:00|  82|            137.16|            13|\n",
      "|2020-01-25 20:00:00|  95|254.22000000000008|            20|\n",
      "|2020-01-30 07:00:00| 197|             88.41|             2|\n",
      "|2020-01-28 13:00:00| 134|            189.11|             7|\n",
      "|2020-01-09 22:00:00|  95|259.24000000000007|            25|\n",
      "|2020-01-15 21:00:00|  74|458.28000000000014|            36|\n",
      "|2020-01-13 15:00:00|  77|             26.36|             1|\n",
      "|2020-01-13 12:00:00|  92|            132.81|             5|\n",
      "|2020-01-27 07:00:00| 244|            241.51|            14|\n",
      "|2020-01-21 16:00:00| 133|             84.96|             4|\n",
      "|2020-01-15 19:00:00|   7|364.97000000000014|            34|\n",
      "+-------------------+----+------------------+--------------+\n",
      "only showing top 20 rows\n",
      "\n"
     ]
    },
    {
     "name": "stderr",
     "output_type": "stream",
     "text": [
      "\r",
      "                                                                                \r"
     ]
    }
   ],
   "source": [
    "df_green_revenue.show()"
   ]
  },
  {
   "cell_type": "code",
   "execution_count": 15,
   "id": "86cca794",
   "metadata": {},
   "outputs": [
    {
     "name": "stderr",
     "output_type": "stream",
     "text": [
      "                                                                                \r"
     ]
    }
   ],
   "source": [
    "df_green_revenue.write.parquet('data/report/revenue/green', mode='overwrite')"
   ]
  },
  {
   "cell_type": "code",
   "execution_count": 22,
   "id": "944635d7",
   "metadata": {},
   "outputs": [],
   "source": [
    "df_yellow = spark.read.parquet('data/pq/yellow/*/*')"
   ]
  },
  {
   "cell_type": "code",
   "execution_count": 23,
   "id": "38251875",
   "metadata": {},
   "outputs": [],
   "source": [
    "df_yellow.registerTempTable('yellow')"
   ]
  },
  {
   "cell_type": "code",
   "execution_count": 24,
   "id": "6e1b5a9f",
   "metadata": {},
   "outputs": [],
   "source": [
    "df_yellow_revenue = spark.sql(\"\"\"\n",
    "SELECT \n",
    "   date_trunc('hour', tpep_pickup_datetime) AS hour, \n",
    "   PULocationID AS zone,\n",
    "   \n",
    "   SUM(total_amount) AS amount,\n",
    "   COUNT(1) as number_records\n",
    "\n",
    "FROM yellow\n",
    "WHERE \n",
    "    tpep_pickup_datetime >= '2020-01-01'\n",
    "GROUP BY \n",
    "   1, 2\n",
    "\"\"\")"
   ]
  },
  {
   "cell_type": "code",
   "execution_count": 25,
   "id": "8cbb31f7",
   "metadata": {},
   "outputs": [
    {
     "name": "stderr",
     "output_type": "stream",
     "text": [
      "[Stage 31:===================================================>    (11 + 1) / 12]\r"
     ]
    },
    {
     "name": "stdout",
     "output_type": "stream",
     "text": [
      "+-------------------+----+------------------+--------------+\n",
      "|               hour|zone|            amount|number_records|\n",
      "+-------------------+----+------------------+--------------+\n",
      "|2020-01-17 13:00:00| 170|6521.6300000000065|           378|\n",
      "|2020-01-12 23:00:00| 163| 2102.039999999999|           121|\n",
      "|2020-01-06 16:00:00| 158|           1200.04|            64|\n",
      "|2020-01-24 22:00:00| 162| 5413.190000000002|           351|\n",
      "|2020-01-19 19:00:00| 107| 3034.139999999998|           206|\n",
      "|2020-01-06 13:00:00|  13|1757.1099999999992|            69|\n",
      "|2020-01-22 10:00:00| 230| 5721.720000000005|           285|\n",
      "|2020-01-03 12:00:00| 142| 4554.979999999998|           326|\n",
      "|2020-01-08 02:00:00| 249|1197.7299999999998|            60|\n",
      "|2020-01-12 16:00:00| 237| 7384.390000000014|           525|\n",
      "|2020-01-15 08:00:00|  13| 3703.489999999997|           196|\n",
      "|2020-01-07 12:00:00| 229| 3209.279999999996|           209|\n",
      "|2020-01-08 16:00:00| 140| 5762.140000000005|           341|\n",
      "|2020-01-01 17:00:00| 234|2734.3699999999967|           184|\n",
      "|2020-01-01 13:00:00| 100| 2692.069999999997|           167|\n",
      "|2020-01-03 20:00:00|  48| 4884.300000000002|           292|\n",
      "|2020-01-27 09:00:00| 162|6208.2500000000055|           371|\n",
      "|2020-01-23 08:00:00| 113|3120.2599999999975|           217|\n",
      "|2020-01-22 18:00:00| 140| 5855.320000000005|           339|\n",
      "|2020-01-25 18:00:00| 263| 4012.399999999995|           282|\n",
      "+-------------------+----+------------------+--------------+\n",
      "only showing top 20 rows\n",
      "\n"
     ]
    },
    {
     "name": "stderr",
     "output_type": "stream",
     "text": [
      "\r",
      "                                                                                \r"
     ]
    }
   ],
   "source": [
    "df_yellow_revenue.show()"
   ]
  },
  {
   "cell_type": "code",
   "execution_count": 26,
   "id": "7c188c3c",
   "metadata": {},
   "outputs": [
    {
     "name": "stderr",
     "output_type": "stream",
     "text": [
      "                                                                                \r"
     ]
    }
   ],
   "source": [
    "df_yellow_revenue.write.parquet('data/report/revenue/yellow', mode='overwrite')"
   ]
  },
  {
   "cell_type": "code",
   "execution_count": 29,
   "id": "6f7c8ff0",
   "metadata": {},
   "outputs": [],
   "source": [
    "df_green_revenue_tmp = df_green_revenue \\\n",
    "    .withColumnRenamed('amount', 'green_amount') \\\n",
    "    .withColumnRenamed('number_records', 'green_number_records')\n",
    "\n",
    "df_yellow_revenue_tmp = df_yellow_revenue \\\n",
    "    .withColumnRenamed('amount', 'yellow_amount') \\\n",
    "    .withColumnRenamed('number_records', 'yellow_number_records')\n"
   ]
  },
  {
   "cell_type": "code",
   "execution_count": 30,
   "id": "33fbaebb",
   "metadata": {},
   "outputs": [],
   "source": [
    "df_join = df_green_revenue_tmp.join(df_yellow_revenue_tmp, on=['hour', 'zone'], how='outer')"
   ]
  },
  {
   "cell_type": "code",
   "execution_count": 31,
   "id": "0a7ee454",
   "metadata": {},
   "outputs": [
    {
     "name": "stderr",
     "output_type": "stream",
     "text": [
      "[Stage 43:===================================================>    (11 + 1) / 12]\r"
     ]
    },
    {
     "name": "stdout",
     "output_type": "stream",
     "text": [
      "+-------------------+----+------------------+--------------------+------------------+---------------------+\n",
      "|               hour|zone|      green_amount|green_number_records|     yellow_amount|yellow_number_records|\n",
      "+-------------------+----+------------------+--------------------+------------------+---------------------+\n",
      "|2020-01-01 00:00:00|  17|195.03000000000003|                   9|            220.21|                    8|\n",
      "|2020-01-01 00:00:00|  32| 68.94999999999999|                   2|              18.0|                    1|\n",
      "|2020-01-01 00:00:00|  51|              17.8|                   2|              31.0|                    1|\n",
      "|2020-01-01 00:00:00|  71|              23.8|                   1|              null|                 null|\n",
      "|2020-01-01 00:00:00|  79|              null|                null|12573.810000000027|                  721|\n",
      "|2020-01-01 00:00:00|  83| 94.09999999999998|                   7|               9.8|                    1|\n",
      "|2020-01-01 00:00:00|  85|             64.76|                   4|            102.56|                    3|\n",
      "|2020-01-01 00:00:00|  93|              null|                null|210.27999999999997|                    3|\n",
      "|2020-01-01 00:00:00| 130|            133.35|                   7|              null|                 null|\n",
      "|2020-01-01 00:00:00| 132|              null|                null| 6786.390000000002|                  139|\n",
      "|2020-01-01 00:00:00| 136|            111.68|                   2|             168.0|                    4|\n",
      "|2020-01-01 00:00:00| 142|              null|                null|  9252.30000000002|                  488|\n",
      "|2020-01-01 00:00:00| 143|             55.95|                   2|2142.0599999999986|                  128|\n",
      "|2020-01-01 00:00:00| 146| 99.36999999999999|                   6|110.74000000000001|                    7|\n",
      "|2020-01-01 00:00:00| 152|             58.52|                   6|251.72999999999996|                   16|\n",
      "|2020-01-01 00:00:00| 159|              13.8|                   1|              58.8|                    2|\n",
      "|2020-01-01 00:00:00| 167|             88.89|                   5|               9.8|                    1|\n",
      "|2020-01-01 00:00:00| 170|              null|                null|  8266.01000000002|                  463|\n",
      "|2020-01-01 00:00:00| 186|              null|                null| 4011.449999999996|                  188|\n",
      "|2020-01-01 00:00:00| 191|             84.21|                   2|              57.3|                    1|\n",
      "+-------------------+----+------------------+--------------------+------------------+---------------------+\n",
      "only showing top 20 rows\n",
      "\n"
     ]
    },
    {
     "name": "stderr",
     "output_type": "stream",
     "text": [
      "\r",
      "                                                                                \r"
     ]
    }
   ],
   "source": [
    "df_join.show()"
   ]
  },
  {
   "cell_type": "code",
   "execution_count": 33,
   "id": "3271a497",
   "metadata": {},
   "outputs": [
    {
     "name": "stderr",
     "output_type": "stream",
     "text": [
      "                                                                                \r"
     ]
    }
   ],
   "source": [
    "df_join.write.parquet('data/report/revenue/total')"
   ]
  },
  {
   "cell_type": "code",
   "execution_count": 35,
   "id": "3953fd50",
   "metadata": {},
   "outputs": [],
   "source": [
    "df_green_revenue = spark.read.parquet('data/report/revenue/green')\n",
    "df_yellow_revenue = spark.read.parquet('data/report/revenue/yellow')"
   ]
  },
  {
   "cell_type": "code",
   "execution_count": 36,
   "id": "0b14da2c",
   "metadata": {},
   "outputs": [],
   "source": [
    "df_green_revenue_tmp = df_green_revenue \\\n",
    "    .withColumnRenamed('amount', 'green_amount') \\\n",
    "    .withColumnRenamed('number_records', 'green_number_records')\n",
    "\n",
    "df_yellow_revenue_tmp = df_yellow_revenue \\\n",
    "    .withColumnRenamed('amount', 'yellow_amount') \\\n",
    "    .withColumnRenamed('number_records', 'yellow_number_records')"
   ]
  },
  {
   "cell_type": "code",
   "execution_count": 38,
   "id": "e2a10416",
   "metadata": {},
   "outputs": [],
   "source": [
    "df_join = df_green_revenue_tmp.join(df_yellow_revenue_tmp, on=['hour', 'zone'], how='outer')"
   ]
  },
  {
   "cell_type": "code",
   "execution_count": 39,
   "id": "59f77e7a",
   "metadata": {},
   "outputs": [
    {
     "name": "stderr",
     "output_type": "stream",
     "text": [
      "                                                                                \r"
     ]
    }
   ],
   "source": [
    "df_join.write.parquet('data/report/revenue/total', mode='overwrite')"
   ]
  },
  {
   "cell_type": "code",
   "execution_count": 41,
   "id": "e17f1e73",
   "metadata": {},
   "outputs": [],
   "source": [
    "df_join = spark.read.parquet('data/report/revenue/total')"
   ]
  },
  {
   "cell_type": "code",
   "execution_count": 43,
   "id": "1ab6a4af",
   "metadata": {},
   "outputs": [
    {
     "data": {
      "text/plain": [
       "DataFrame[hour: timestamp, zone: int, green_amount: double, green_number_records: bigint, yellow_amount: double, yellow_number_records: bigint]"
      ]
     },
     "execution_count": 43,
     "metadata": {},
     "output_type": "execute_result"
    }
   ],
   "source": [
    "df_join"
   ]
  },
  {
   "cell_type": "code",
   "execution_count": 44,
   "id": "fa0e80a2",
   "metadata": {},
   "outputs": [
    {
     "name": "stdout",
     "output_type": "stream",
     "text": [
      "+-------------------+----+------------------+--------------------+------------------+---------------------+\n",
      "|               hour|zone|      green_amount|green_number_records|     yellow_amount|yellow_number_records|\n",
      "+-------------------+----+------------------+--------------------+------------------+---------------------+\n",
      "|2020-01-01 00:00:00|  13|              null|                null|1214.7999999999997|                   56|\n",
      "|2020-01-01 00:00:00|  14|              null|                null|               8.8|                    1|\n",
      "|2020-01-01 00:00:00|  15|              null|                null|             34.09|                    1|\n",
      "|2020-01-01 00:00:00|  24|              87.6|                   3| 754.9500000000003|                   45|\n",
      "|2020-01-01 00:00:00|  29|              61.3|                   1|              null|                 null|\n",
      "|2020-01-01 00:00:00|  33|            317.27|                  11|            255.56|                    8|\n",
      "|2020-01-01 00:00:00|  41|1363.9599999999982|                  84|1256.5300000000002|                   80|\n",
      "|2020-01-01 00:00:00|  49|266.76000000000005|                  14|            185.65|                   10|\n",
      "|2020-01-01 00:00:00|  56|             99.69|                   3|              18.1|                    2|\n",
      "|2020-01-01 00:00:00|  62|             15.95|                   1|             61.43|                    1|\n",
      "|2020-01-01 00:00:00|  66|386.75000000000006|                  18|            260.55|                   10|\n",
      "|2020-01-01 00:00:00|  73|              null|                null|              17.3|                    1|\n",
      "|2020-01-01 00:00:00|  74| 317.0900000000001|                  24| 586.2100000000002|                   47|\n",
      "|2020-01-01 00:00:00|  75| 278.1400000000001|                  26| 958.3500000000004|                   69|\n",
      "|2020-01-01 00:00:00|  81|54.870000000000005|                   2|             30.32|                    1|\n",
      "|2020-01-01 00:00:00|  82| 305.1200000000002|                  28|              29.8|                    1|\n",
      "|2020-01-01 00:00:00|  88|              null|                null| 823.8000000000002|                   36|\n",
      "|2020-01-01 00:00:00|  94|             64.24|                   3|              13.3|                    1|\n",
      "|2020-01-01 00:00:00|  97| 786.1799999999998|                  25|            403.02|                   20|\n",
      "|2020-01-01 00:00:00| 107|              null|                null| 6441.030000000004|                  380|\n",
      "+-------------------+----+------------------+--------------------+------------------+---------------------+\n",
      "only showing top 20 rows\n",
      "\n"
     ]
    }
   ],
   "source": [
    "df_join.show()"
   ]
  },
  {
   "cell_type": "code",
   "execution_count": 45,
   "id": "1e8dc202",
   "metadata": {},
   "outputs": [
    {
     "name": "stdout",
     "output_type": "stream",
     "text": [
      "--2023-02-25 06:57:12--  https://s3.amazonaws.com/nyc-tlc/misc/taxi+_zone_lookup.csv\n",
      "Resolving s3.amazonaws.com (s3.amazonaws.com)... 54.231.129.208, 52.216.78.150, 52.216.152.110, ...\n",
      "Connecting to s3.amazonaws.com (s3.amazonaws.com)|54.231.129.208|:443... connected.\n",
      "HTTP request sent, awaiting response... 200 OK\n",
      "Length: 12322 (12K) [application/octet-stream]\n",
      "Saving to: ‘taxi+_zone_lookup.csv’\n",
      "\n",
      "taxi+_zone_lookup.c 100%[===================>]  12.03K  --.-KB/s    in 0.001s  \n",
      "\n",
      "2023-02-25 06:57:13 (21.7 MB/s) - ‘taxi+_zone_lookup.csv’ saved [12322/12322]\n",
      "\n"
     ]
    }
   ],
   "source": [
    "!wget https://s3.amazonaws.com/nyc-tlc/misc/taxi+_zone_lookup.csv"
   ]
  },
  {
   "cell_type": "code",
   "execution_count": 46,
   "id": "d39be46e",
   "metadata": {},
   "outputs": [],
   "source": [
    "df = spark.read \\\n",
    "    .option(\"header\", \"true\") \\\n",
    "    .csv('taxi+_zone_lookup.csv')"
   ]
  },
  {
   "cell_type": "code",
   "execution_count": 47,
   "id": "31cba560",
   "metadata": {},
   "outputs": [],
   "source": [
    "df.write.parquet('zones')"
   ]
  },
  {
   "cell_type": "code",
   "execution_count": 48,
   "id": "d02abfc3",
   "metadata": {},
   "outputs": [],
   "source": [
    "df_zones = spark.read.parquet('zones/')"
   ]
  },
  {
   "cell_type": "code",
   "execution_count": 49,
   "id": "46a809c4",
   "metadata": {},
   "outputs": [
    {
     "name": "stdout",
     "output_type": "stream",
     "text": [
      "+----------+-------------+--------------------+------------+\n",
      "|LocationID|      Borough|                Zone|service_zone|\n",
      "+----------+-------------+--------------------+------------+\n",
      "|         1|          EWR|      Newark Airport|         EWR|\n",
      "|         2|       Queens|         Jamaica Bay|   Boro Zone|\n",
      "|         3|        Bronx|Allerton/Pelham G...|   Boro Zone|\n",
      "|         4|    Manhattan|       Alphabet City| Yellow Zone|\n",
      "|         5|Staten Island|       Arden Heights|   Boro Zone|\n",
      "|         6|Staten Island|Arrochar/Fort Wad...|   Boro Zone|\n",
      "|         7|       Queens|             Astoria|   Boro Zone|\n",
      "|         8|       Queens|        Astoria Park|   Boro Zone|\n",
      "|         9|       Queens|          Auburndale|   Boro Zone|\n",
      "|        10|       Queens|        Baisley Park|   Boro Zone|\n",
      "|        11|     Brooklyn|          Bath Beach|   Boro Zone|\n",
      "|        12|    Manhattan|        Battery Park| Yellow Zone|\n",
      "|        13|    Manhattan|   Battery Park City| Yellow Zone|\n",
      "|        14|     Brooklyn|           Bay Ridge|   Boro Zone|\n",
      "|        15|       Queens|Bay Terrace/Fort ...|   Boro Zone|\n",
      "|        16|       Queens|             Bayside|   Boro Zone|\n",
      "|        17|     Brooklyn|             Bedford|   Boro Zone|\n",
      "|        18|        Bronx|        Bedford Park|   Boro Zone|\n",
      "|        19|       Queens|           Bellerose|   Boro Zone|\n",
      "|        20|        Bronx|             Belmont|   Boro Zone|\n",
      "+----------+-------------+--------------------+------------+\n",
      "only showing top 20 rows\n",
      "\n"
     ]
    }
   ],
   "source": [
    "df_zones.show()"
   ]
  },
  {
   "cell_type": "code",
   "execution_count": 51,
   "id": "1b5e9a36",
   "metadata": {},
   "outputs": [],
   "source": [
    "df_result = df_join.join(df_zones, df_join.zone == df_zones.LocationID)"
   ]
  },
  {
   "cell_type": "code",
   "execution_count": 52,
   "id": "9a918a12",
   "metadata": {},
   "outputs": [
    {
     "name": "stdout",
     "output_type": "stream",
     "text": [
      "+-------------------+----+------------------+--------------------+------------------+---------------------+----------+---------+--------------------+------------+\n",
      "|               hour|zone|      green_amount|green_number_records|     yellow_amount|yellow_number_records|LocationID|  Borough|                Zone|service_zone|\n",
      "+-------------------+----+------------------+--------------------+------------------+---------------------+----------+---------+--------------------+------------+\n",
      "|2020-01-01 00:00:00|  13|              null|                null|1214.7999999999997|                   56|        13|Manhattan|   Battery Park City| Yellow Zone|\n",
      "|2020-01-01 00:00:00|  14|              null|                null|               8.8|                    1|        14| Brooklyn|           Bay Ridge|   Boro Zone|\n",
      "|2020-01-01 00:00:00|  15|              null|                null|             34.09|                    1|        15|   Queens|Bay Terrace/Fort ...|   Boro Zone|\n",
      "|2020-01-01 00:00:00|  24|              87.6|                   3| 754.9500000000003|                   45|        24|Manhattan|        Bloomingdale| Yellow Zone|\n",
      "|2020-01-01 00:00:00|  29|              61.3|                   1|              null|                 null|        29| Brooklyn|      Brighton Beach|   Boro Zone|\n",
      "|2020-01-01 00:00:00|  33|            317.27|                  11|            255.56|                    8|        33| Brooklyn|    Brooklyn Heights|   Boro Zone|\n",
      "|2020-01-01 00:00:00|  41|1363.9599999999982|                  84|1256.5300000000002|                   80|        41|Manhattan|      Central Harlem|   Boro Zone|\n",
      "|2020-01-01 00:00:00|  49|266.76000000000005|                  14|            185.65|                   10|        49| Brooklyn|        Clinton Hill|   Boro Zone|\n",
      "|2020-01-01 00:00:00|  56|             99.69|                   3|              18.1|                    2|        56|   Queens|              Corona|   Boro Zone|\n",
      "|2020-01-01 00:00:00|  62|             15.95|                   1|             61.43|                    1|        62| Brooklyn| Crown Heights South|   Boro Zone|\n",
      "|2020-01-01 00:00:00|  66|386.75000000000006|                  18|            260.55|                   10|        66| Brooklyn|  DUMBO/Vinegar Hill|   Boro Zone|\n",
      "|2020-01-01 00:00:00|  73|              null|                null|              17.3|                    1|        73|   Queens|       East Flushing|   Boro Zone|\n",
      "|2020-01-01 00:00:00|  74| 317.0900000000001|                  24| 586.2100000000002|                   47|        74|Manhattan|   East Harlem North|   Boro Zone|\n",
      "|2020-01-01 00:00:00|  75| 278.1400000000001|                  26| 958.3500000000004|                   69|        75|Manhattan|   East Harlem South|   Boro Zone|\n",
      "|2020-01-01 00:00:00|  81|54.870000000000005|                   2|             30.32|                    1|        81|    Bronx|         Eastchester|   Boro Zone|\n",
      "|2020-01-01 00:00:00|  82| 305.1200000000002|                  28|              29.8|                    1|        82|   Queens|            Elmhurst|   Boro Zone|\n",
      "|2020-01-01 00:00:00|  88|              null|                null| 823.8000000000002|                   36|        88|Manhattan|Financial Distric...| Yellow Zone|\n",
      "|2020-01-01 00:00:00|  94|             64.24|                   3|              13.3|                    1|        94|    Bronx|       Fordham South|   Boro Zone|\n",
      "|2020-01-01 00:00:00|  97| 786.1799999999998|                  25|            403.02|                   20|        97| Brooklyn|         Fort Greene|   Boro Zone|\n",
      "|2020-01-01 00:00:00| 107|              null|                null| 6441.030000000004|                  380|       107|Manhattan|            Gramercy| Yellow Zone|\n",
      "+-------------------+----+------------------+--------------------+------------------+---------------------+----------+---------+--------------------+------------+\n",
      "only showing top 20 rows\n",
      "\n"
     ]
    }
   ],
   "source": [
    "df_result.show()"
   ]
  },
  {
   "cell_type": "code",
   "execution_count": 53,
   "id": "1175d365",
   "metadata": {},
   "outputs": [
    {
     "name": "stdout",
     "output_type": "stream",
     "text": [
      "+-------------------+----+------------------+--------------------+------------------+---------------------+---------+--------------------+------------+\n",
      "|               hour|zone|      green_amount|green_number_records|     yellow_amount|yellow_number_records|  Borough|                Zone|service_zone|\n",
      "+-------------------+----+------------------+--------------------+------------------+---------------------+---------+--------------------+------------+\n",
      "|2020-01-01 00:00:00|  13|              null|                null|1214.7999999999997|                   56|Manhattan|   Battery Park City| Yellow Zone|\n",
      "|2020-01-01 00:00:00|  14|              null|                null|               8.8|                    1| Brooklyn|           Bay Ridge|   Boro Zone|\n",
      "|2020-01-01 00:00:00|  15|              null|                null|             34.09|                    1|   Queens|Bay Terrace/Fort ...|   Boro Zone|\n",
      "|2020-01-01 00:00:00|  24|              87.6|                   3| 754.9500000000003|                   45|Manhattan|        Bloomingdale| Yellow Zone|\n",
      "|2020-01-01 00:00:00|  29|              61.3|                   1|              null|                 null| Brooklyn|      Brighton Beach|   Boro Zone|\n",
      "|2020-01-01 00:00:00|  33|            317.27|                  11|            255.56|                    8| Brooklyn|    Brooklyn Heights|   Boro Zone|\n",
      "|2020-01-01 00:00:00|  41|1363.9599999999982|                  84|1256.5300000000002|                   80|Manhattan|      Central Harlem|   Boro Zone|\n",
      "|2020-01-01 00:00:00|  49|266.76000000000005|                  14|            185.65|                   10| Brooklyn|        Clinton Hill|   Boro Zone|\n",
      "|2020-01-01 00:00:00|  56|             99.69|                   3|              18.1|                    2|   Queens|              Corona|   Boro Zone|\n",
      "|2020-01-01 00:00:00|  62|             15.95|                   1|             61.43|                    1| Brooklyn| Crown Heights South|   Boro Zone|\n",
      "|2020-01-01 00:00:00|  66|386.75000000000006|                  18|            260.55|                   10| Brooklyn|  DUMBO/Vinegar Hill|   Boro Zone|\n",
      "|2020-01-01 00:00:00|  73|              null|                null|              17.3|                    1|   Queens|       East Flushing|   Boro Zone|\n",
      "|2020-01-01 00:00:00|  74| 317.0900000000001|                  24| 586.2100000000002|                   47|Manhattan|   East Harlem North|   Boro Zone|\n",
      "|2020-01-01 00:00:00|  75| 278.1400000000001|                  26| 958.3500000000004|                   69|Manhattan|   East Harlem South|   Boro Zone|\n",
      "|2020-01-01 00:00:00|  81|54.870000000000005|                   2|             30.32|                    1|    Bronx|         Eastchester|   Boro Zone|\n",
      "|2020-01-01 00:00:00|  82| 305.1200000000002|                  28|              29.8|                    1|   Queens|            Elmhurst|   Boro Zone|\n",
      "|2020-01-01 00:00:00|  88|              null|                null| 823.8000000000002|                   36|Manhattan|Financial Distric...| Yellow Zone|\n",
      "|2020-01-01 00:00:00|  94|             64.24|                   3|              13.3|                    1|    Bronx|       Fordham South|   Boro Zone|\n",
      "|2020-01-01 00:00:00|  97| 786.1799999999998|                  25|            403.02|                   20| Brooklyn|         Fort Greene|   Boro Zone|\n",
      "|2020-01-01 00:00:00| 107|              null|                null| 6441.030000000004|                  380|Manhattan|            Gramercy| Yellow Zone|\n",
      "+-------------------+----+------------------+--------------------+------------------+---------------------+---------+--------------------+------------+\n",
      "only showing top 20 rows\n",
      "\n"
     ]
    }
   ],
   "source": [
    "df_result.drop('LocationID').show()"
   ]
  },
  {
   "cell_type": "code",
   "execution_count": 55,
   "id": "d363883a",
   "metadata": {},
   "outputs": [
    {
     "name": "stderr",
     "output_type": "stream",
     "text": [
      "                                                                                \r"
     ]
    }
   ],
   "source": [
    "df_result.drop('LocationID', 'zone').write.parquet('tmp/revenue-zones')"
   ]
  }
 ],
 "metadata": {
  "kernelspec": {
   "display_name": "Python 3 (ipykernel)",
   "language": "python",
   "name": "python3"
  },
  "language_info": {
   "codemirror_mode": {
    "name": "ipython",
    "version": 3
   },
   "file_extension": ".py",
   "mimetype": "text/x-python",
   "name": "python",
   "nbconvert_exporter": "python",
   "pygments_lexer": "ipython3",
   "version": "3.9.13"
  }
 },
 "nbformat": 4,
 "nbformat_minor": 5
}
