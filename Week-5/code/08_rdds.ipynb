{
 "cells": [
  {
   "cell_type": "code",
   "execution_count": 5,
   "id": "17934a6f",
   "metadata": {},
   "outputs": [
    {
     "name": "stdout",
     "output_type": "stream",
     "text": [
      "23/02/26 15:45:18 WARN Utils: Your hostname, dengine resolves to a loopback address: 127.0.1.1; using 192.168.1.221 instead (on interface ens18)\n",
      "23/02/26 15:45:18 WARN Utils: Set SPARK_LOCAL_IP if you need to bind to another address\n"
     ]
    },
    {
     "name": "stderr",
     "output_type": "stream",
     "text": [
      "Setting default log level to \"WARN\".\n",
      "To adjust logging level use sc.setLogLevel(newLevel). For SparkR, use setLogLevel(newLevel).\n"
     ]
    },
    {
     "name": "stdout",
     "output_type": "stream",
     "text": [
      "23/02/26 15:45:19 WARN NativeCodeLoader: Unable to load native-hadoop library for your platform... using builtin-java classes where applicable\n"
     ]
    }
   ],
   "source": [
    "import pyspark\n",
    "from pyspark.sql import SparkSession\n",
    "\n",
    "spark = SparkSession.builder \\\n",
    "    .master(\"local[*]\") \\\n",
    "    .appName('test') \\\n",
    "    .getOrCreate()"
   ]
  },
  {
   "cell_type": "code",
   "execution_count": 6,
   "id": "9aa09f5d",
   "metadata": {},
   "outputs": [
    {
     "name": "stderr",
     "output_type": "stream",
     "text": [
      "\r",
      "[Stage 0:>                                                          (0 + 1) / 1]\r",
      "\r",
      "                                                                                \r"
     ]
    }
   ],
   "source": [
    "df_green = spark.read.parquet('data/pq/green/*/*')"
   ]
  },
  {
   "cell_type": "code",
   "execution_count": 7,
   "id": "235ac53f",
   "metadata": {},
   "outputs": [
    {
     "ename": "SyntaxError",
     "evalue": "invalid syntax (2636520060.py, line 1)",
     "output_type": "error",
     "traceback": [
      "\u001b[0;36m  File \u001b[0;32m\"/tmp/ipykernel_24925/2636520060.py\"\u001b[0;36m, line \u001b[0;32m1\u001b[0m\n\u001b[0;31m    ```\u001b[0m\n\u001b[0m    ^\u001b[0m\n\u001b[0;31mSyntaxError\u001b[0m\u001b[0;31m:\u001b[0m invalid syntax\n"
     ]
    }
   ],
   "source": [
    "```\n",
    "SELECT \n",
    "   date_trunc('hour', lpep_pickup_datetime) AS hour, \n",
    "   PULocationID AS zone,\n",
    "   \n",
    "   SUM(total_amount) AS amount,\n",
    "   COUNT(1) as number_records\n",
    "\n",
    "FROM green\n",
    "WHERE \n",
    "    lpep_pickup_datetime >= '2020-01-01'\n",
    "GROUP BY \n",
    "   1, 2\n",
    "```"
   ]
  },
  {
   "cell_type": "code",
   "execution_count": null,
   "id": "236b226a",
   "metadata": {},
   "outputs": [],
   "source": [
    "df_green.rdd"
   ]
  },
  {
   "cell_type": "code",
   "execution_count": 8,
   "id": "5f266f96",
   "metadata": {},
   "outputs": [
    {
     "name": "stderr",
     "output_type": "stream",
     "text": [
      "                                                                                \r"
     ]
    },
    {
     "data": {
      "text/plain": [
       "[Row(VendorID=2, lpep_pickup_datetime=datetime.datetime(2020, 1, 16, 23, 31, 44), lpep_dropoff_datetime=datetime.datetime(2020, 1, 16, 23, 46, 21), store_and_fwd_flag='N', RatecodeID=1, PULocationID=65, DOLocationID=56, passenger_count=1, trip_distance=8.6, fare_amount=24.5, extra=0.5, mta_tax=0.5, tip_amount=0.0, tolls_amount=0.0, ehail_fee=None, improvement_surcharge=0.3, total_amount=25.8, payment_type=2, trip_type=1, congestion_surcharge=0.0),\n",
       " Row(VendorID=2, lpep_pickup_datetime=datetime.datetime(2020, 1, 14, 15, 1, 42), lpep_dropoff_datetime=datetime.datetime(2020, 1, 14, 15, 28, 14), store_and_fwd_flag='N', RatecodeID=1, PULocationID=129, DOLocationID=141, passenger_count=5, trip_distance=5.16, fare_amount=20.5, extra=0.0, mta_tax=0.5, tip_amount=0.0, tolls_amount=0.0, ehail_fee=None, improvement_surcharge=0.3, total_amount=24.05, payment_type=2, trip_type=1, congestion_surcharge=2.75),\n",
       " Row(VendorID=None, lpep_pickup_datetime=datetime.datetime(2020, 1, 24, 5, 55), lpep_dropoff_datetime=datetime.datetime(2020, 1, 24, 6, 26), store_and_fwd_flag=None, RatecodeID=None, PULocationID=242, DOLocationID=261, passenger_count=None, trip_distance=16.27, fare_amount=53.2, extra=2.75, mta_tax=0.5, tip_amount=0.0, tolls_amount=6.12, ehail_fee=None, improvement_surcharge=0.3, total_amount=62.87, payment_type=None, trip_type=None, congestion_surcharge=None),\n",
       " Row(VendorID=2, lpep_pickup_datetime=datetime.datetime(2020, 1, 31, 8, 19, 3), lpep_dropoff_datetime=datetime.datetime(2020, 1, 31, 8, 24, 35), store_and_fwd_flag='N', RatecodeID=1, PULocationID=166, DOLocationID=238, passenger_count=1, trip_distance=1.42, fare_amount=6.5, extra=0.0, mta_tax=0.5, tip_amount=1.46, tolls_amount=0.0, ehail_fee=None, improvement_surcharge=0.3, total_amount=8.76, payment_type=1, trip_type=1, congestion_surcharge=0.0),\n",
       " Row(VendorID=None, lpep_pickup_datetime=datetime.datetime(2020, 1, 12, 18, 54), lpep_dropoff_datetime=datetime.datetime(2020, 1, 12, 19, 11), store_and_fwd_flag=None, RatecodeID=None, PULocationID=41, DOLocationID=235, passenger_count=None, trip_distance=4.62, fare_amount=14.24, extra=0.0, mta_tax=0.0, tip_amount=0.0, tolls_amount=0.0, ehail_fee=None, improvement_surcharge=0.3, total_amount=14.54, payment_type=None, trip_type=None, congestion_surcharge=None),\n",
       " Row(VendorID=2, lpep_pickup_datetime=datetime.datetime(2020, 1, 11, 17, 13, 41), lpep_dropoff_datetime=datetime.datetime(2020, 1, 11, 17, 33, 40), store_and_fwd_flag='N', RatecodeID=1, PULocationID=66, DOLocationID=49, passenger_count=6, trip_distance=2.67, fare_amount=14.5, extra=0.0, mta_tax=0.5, tip_amount=3.06, tolls_amount=0.0, ehail_fee=None, improvement_surcharge=0.3, total_amount=18.36, payment_type=1, trip_type=1, congestion_surcharge=0.0),\n",
       " Row(VendorID=2, lpep_pickup_datetime=datetime.datetime(2020, 1, 29, 19, 23, 3), lpep_dropoff_datetime=datetime.datetime(2020, 1, 29, 19, 29, 47), store_and_fwd_flag='N', RatecodeID=1, PULocationID=260, DOLocationID=226, passenger_count=2, trip_distance=0.64, fare_amount=6.0, extra=1.0, mta_tax=0.5, tip_amount=1.0, tolls_amount=0.0, ehail_fee=None, improvement_surcharge=0.3, total_amount=8.8, payment_type=1, trip_type=1, congestion_surcharge=0.0),\n",
       " Row(VendorID=2, lpep_pickup_datetime=datetime.datetime(2020, 1, 26, 11, 45, 13), lpep_dropoff_datetime=datetime.datetime(2020, 1, 26, 11, 47, 10), store_and_fwd_flag='N', RatecodeID=1, PULocationID=116, DOLocationID=116, passenger_count=1, trip_distance=0.43, fare_amount=3.5, extra=0.0, mta_tax=0.5, tip_amount=0.0, tolls_amount=0.0, ehail_fee=None, improvement_surcharge=0.3, total_amount=4.3, payment_type=2, trip_type=1, congestion_surcharge=0.0),\n",
       " Row(VendorID=2, lpep_pickup_datetime=datetime.datetime(2020, 1, 3, 8, 58, 57), lpep_dropoff_datetime=datetime.datetime(2020, 1, 3, 9, 7, 19), store_and_fwd_flag='N', RatecodeID=1, PULocationID=74, DOLocationID=75, passenger_count=1, trip_distance=1.38, fare_amount=7.0, extra=0.0, mta_tax=0.5, tip_amount=0.0, tolls_amount=0.0, ehail_fee=None, improvement_surcharge=0.3, total_amount=7.8, payment_type=2, trip_type=1, congestion_surcharge=0.0),\n",
       " Row(VendorID=2, lpep_pickup_datetime=datetime.datetime(2020, 1, 27, 21, 56, 19), lpep_dropoff_datetime=datetime.datetime(2020, 1, 27, 22, 1, 4), store_and_fwd_flag='N', RatecodeID=1, PULocationID=41, DOLocationID=74, passenger_count=1, trip_distance=1.0, fare_amount=5.5, extra=0.5, mta_tax=0.5, tip_amount=1.02, tolls_amount=0.0, ehail_fee=None, improvement_surcharge=0.3, total_amount=7.82, payment_type=1, trip_type=1, congestion_surcharge=0.0)]"
      ]
     },
     "execution_count": 8,
     "metadata": {},
     "output_type": "execute_result"
    }
   ],
   "source": [
    "df_green.rdd.take(10)"
   ]
  },
  {
   "cell_type": "code",
   "execution_count": 9,
   "id": "130f2e4c",
   "metadata": {},
   "outputs": [
    {
     "data": {
      "text/plain": [
       "[Row(VendorID=2, lpep_pickup_datetime=datetime.datetime(2020, 1, 16, 23, 31, 44), lpep_dropoff_datetime=datetime.datetime(2020, 1, 16, 23, 46, 21), store_and_fwd_flag='N', RatecodeID=1, PULocationID=65, DOLocationID=56, passenger_count=1, trip_distance=8.6, fare_amount=24.5, extra=0.5, mta_tax=0.5, tip_amount=0.0, tolls_amount=0.0, ehail_fee=None, improvement_surcharge=0.3, total_amount=25.8, payment_type=2, trip_type=1, congestion_surcharge=0.0),\n",
       " Row(VendorID=2, lpep_pickup_datetime=datetime.datetime(2020, 1, 14, 15, 1, 42), lpep_dropoff_datetime=datetime.datetime(2020, 1, 14, 15, 28, 14), store_and_fwd_flag='N', RatecodeID=1, PULocationID=129, DOLocationID=141, passenger_count=5, trip_distance=5.16, fare_amount=20.5, extra=0.0, mta_tax=0.5, tip_amount=0.0, tolls_amount=0.0, ehail_fee=None, improvement_surcharge=0.3, total_amount=24.05, payment_type=2, trip_type=1, congestion_surcharge=2.75),\n",
       " Row(VendorID=None, lpep_pickup_datetime=datetime.datetime(2020, 1, 24, 5, 55), lpep_dropoff_datetime=datetime.datetime(2020, 1, 24, 6, 26), store_and_fwd_flag=None, RatecodeID=None, PULocationID=242, DOLocationID=261, passenger_count=None, trip_distance=16.27, fare_amount=53.2, extra=2.75, mta_tax=0.5, tip_amount=0.0, tolls_amount=6.12, ehail_fee=None, improvement_surcharge=0.3, total_amount=62.87, payment_type=None, trip_type=None, congestion_surcharge=None),\n",
       " Row(VendorID=2, lpep_pickup_datetime=datetime.datetime(2020, 1, 31, 8, 19, 3), lpep_dropoff_datetime=datetime.datetime(2020, 1, 31, 8, 24, 35), store_and_fwd_flag='N', RatecodeID=1, PULocationID=166, DOLocationID=238, passenger_count=1, trip_distance=1.42, fare_amount=6.5, extra=0.0, mta_tax=0.5, tip_amount=1.46, tolls_amount=0.0, ehail_fee=None, improvement_surcharge=0.3, total_amount=8.76, payment_type=1, trip_type=1, congestion_surcharge=0.0),\n",
       " Row(VendorID=None, lpep_pickup_datetime=datetime.datetime(2020, 1, 12, 18, 54), lpep_dropoff_datetime=datetime.datetime(2020, 1, 12, 19, 11), store_and_fwd_flag=None, RatecodeID=None, PULocationID=41, DOLocationID=235, passenger_count=None, trip_distance=4.62, fare_amount=14.24, extra=0.0, mta_tax=0.0, tip_amount=0.0, tolls_amount=0.0, ehail_fee=None, improvement_surcharge=0.3, total_amount=14.54, payment_type=None, trip_type=None, congestion_surcharge=None)]"
      ]
     },
     "execution_count": 9,
     "metadata": {},
     "output_type": "execute_result"
    }
   ],
   "source": [
    "df_green.take(5)"
   ]
  },
  {
   "cell_type": "code",
   "execution_count": 10,
   "id": "6f3211b1",
   "metadata": {},
   "outputs": [],
   "source": [
    "rdd = df_green \\\n",
    "    .select ('lpep_pickup_datetime', 'PULocationID', 'total_amount') \\\n",
    "    .rdd"
   ]
  },
  {
   "cell_type": "code",
   "execution_count": 11,
   "id": "06a7db40",
   "metadata": {},
   "outputs": [
    {
     "data": {
      "text/plain": [
       "[Row(lpep_pickup_datetime=datetime.datetime(2020, 1, 16, 23, 31, 44), PULocationID=65, total_amount=25.8),\n",
       " Row(lpep_pickup_datetime=datetime.datetime(2020, 1, 14, 15, 1, 42), PULocationID=129, total_amount=24.05),\n",
       " Row(lpep_pickup_datetime=datetime.datetime(2020, 1, 24, 5, 55), PULocationID=242, total_amount=62.87),\n",
       " Row(lpep_pickup_datetime=datetime.datetime(2020, 1, 31, 8, 19, 3), PULocationID=166, total_amount=8.76),\n",
       " Row(lpep_pickup_datetime=datetime.datetime(2020, 1, 12, 18, 54), PULocationID=41, total_amount=14.54)]"
      ]
     },
     "execution_count": 11,
     "metadata": {},
     "output_type": "execute_result"
    }
   ],
   "source": [
    "rdd.take(5)"
   ]
  },
  {
   "cell_type": "code",
   "execution_count": 12,
   "id": "a4309b84",
   "metadata": {},
   "outputs": [],
   "source": [
    "from datetime import datetime"
   ]
  },
  {
   "cell_type": "code",
   "execution_count": 13,
   "id": "b4793f4e",
   "metadata": {},
   "outputs": [],
   "source": [
    "start = datetime(year=2020, month=1, day=1)"
   ]
  },
  {
   "cell_type": "code",
   "execution_count": 14,
   "id": "32f84351",
   "metadata": {},
   "outputs": [
    {
     "data": {
      "text/plain": [
       "[Row(lpep_pickup_datetime=datetime.datetime(2020, 1, 16, 23, 31, 44), PULocationID=65, total_amount=25.8)]"
      ]
     },
     "execution_count": 14,
     "metadata": {},
     "output_type": "execute_result"
    }
   ],
   "source": [
    "rdd.filter(lambda row:row.lpep_pickup_datetime >= start).take(1)"
   ]
  },
  {
   "cell_type": "code",
   "execution_count": 15,
   "id": "20751671",
   "metadata": {},
   "outputs": [
    {
     "data": {
      "text/plain": [
       "[Row(lpep_pickup_datetime=datetime.datetime(2020, 1, 16, 23, 31, 44), PULocationID=65, total_amount=25.8)]"
      ]
     },
     "execution_count": 15,
     "metadata": {},
     "output_type": "execute_result"
    }
   ],
   "source": [
    "rdd.filter(lambda row:row.lpep_pickup_datetime >= start).take(1)"
   ]
  },
  {
   "cell_type": "code",
   "execution_count": 16,
   "id": "72488b12",
   "metadata": {},
   "outputs": [],
   "source": [
    "start = datetime(year=2020, month=1, day=1)\n",
    "\n",
    "def filter_outliers(row):\n",
    "        return row.lpep_pickup_datetime >= start"
   ]
  },
  {
   "cell_type": "code",
   "execution_count": 17,
   "id": "7e9b14ac",
   "metadata": {},
   "outputs": [
    {
     "data": {
      "text/plain": [
       "[Row(lpep_pickup_datetime=datetime.datetime(2020, 1, 16, 23, 31, 44), PULocationID=65, total_amount=25.8)]"
      ]
     },
     "execution_count": 17,
     "metadata": {},
     "output_type": "execute_result"
    }
   ],
   "source": [
    "rdd \\\n",
    "    .filter(filter_outliers).take(1)"
   ]
  },
  {
   "cell_type": "code",
   "execution_count": 18,
   "id": "7f82d096",
   "metadata": {},
   "outputs": [],
   "source": [
    "rows = rdd.take(10)\n",
    "row = rows[0]"
   ]
  },
  {
   "cell_type": "code",
   "execution_count": 19,
   "id": "82345cce",
   "metadata": {},
   "outputs": [
    {
     "data": {
      "text/plain": [
       "Row(lpep_pickup_datetime=datetime.datetime(2020, 1, 16, 23, 31, 44), PULocationID=65, total_amount=25.8)"
      ]
     },
     "execution_count": 19,
     "metadata": {},
     "output_type": "execute_result"
    }
   ],
   "source": [
    "row"
   ]
  },
  {
   "cell_type": "code",
   "execution_count": 20,
   "id": "cf87539e",
   "metadata": {},
   "outputs": [
    {
     "data": {
      "text/plain": [
       "datetime.datetime(2020, 1, 16, 23, 31, 44)"
      ]
     },
     "execution_count": 20,
     "metadata": {},
     "output_type": "execute_result"
    }
   ],
   "source": [
    "row.lpep_pickup_datetime"
   ]
  },
  {
   "cell_type": "code",
   "execution_count": 21,
   "id": "e45d396a",
   "metadata": {},
   "outputs": [
    {
     "data": {
      "text/plain": [
       "datetime.datetime(2020, 1, 16, 23, 0)"
      ]
     },
     "execution_count": 21,
     "metadata": {},
     "output_type": "execute_result"
    }
   ],
   "source": [
    "row.lpep_pickup_datetime.replace(minute=0, second=0, microsecond=0)"
   ]
  },
  {
   "cell_type": "code",
   "execution_count": 22,
   "id": "3a263dde",
   "metadata": {},
   "outputs": [],
   "source": [
    "def prepare_for_grouping(row):\n",
    "    hour = row.lpep_pickup_datetime.replace(minute=0, second=0, microsecond=0)\n",
    "    zone = row.PULocationID\n",
    "    key = (hour, zone)\n",
    "    \n",
    "    amount = row.total_amount\n",
    "    count = 1\n",
    "    value = (amount, count)\n",
    "    \n",
    "    return(key, value)"
   ]
  },
  {
   "cell_type": "code",
   "execution_count": 23,
   "id": "06f1223e",
   "metadata": {},
   "outputs": [
    {
     "data": {
      "text/plain": [
       "[((datetime.datetime(2020, 1, 16, 23, 0), 65), (25.8, 1)),\n",
       " ((datetime.datetime(2020, 1, 14, 15, 0), 129), (24.05, 1)),\n",
       " ((datetime.datetime(2020, 1, 24, 5, 0), 242), (62.87, 1)),\n",
       " ((datetime.datetime(2020, 1, 31, 8, 0), 166), (8.76, 1)),\n",
       " ((datetime.datetime(2020, 1, 12, 18, 0), 41), (14.54, 1)),\n",
       " ((datetime.datetime(2020, 1, 11, 17, 0), 66), (18.36, 1)),\n",
       " ((datetime.datetime(2020, 1, 29, 19, 0), 260), (8.8, 1)),\n",
       " ((datetime.datetime(2020, 1, 26, 11, 0), 116), (4.3, 1)),\n",
       " ((datetime.datetime(2020, 1, 3, 8, 0), 74), (7.8, 1)),\n",
       " ((datetime.datetime(2020, 1, 27, 21, 0), 41), (7.82, 1))]"
      ]
     },
     "execution_count": 23,
     "metadata": {},
     "output_type": "execute_result"
    }
   ],
   "source": [
    "rdd \\\n",
    "    .filter(filter_outliers) \\\n",
    "    .map(prepare_for_grouping) \\\n",
    "    .take(10)"
   ]
  },
  {
   "cell_type": "code",
   "execution_count": 24,
   "id": "ea93f132",
   "metadata": {},
   "outputs": [],
   "source": [
    "def calculate_revenue(left_value, right_value):\n",
    "    left_amount, left_count = left_value \n",
    "    right_amount, right_count = right_value\n",
    "    \n",
    "    output_amount = left_amount + right_amount\n",
    "    output_count = left_count + right_count\n",
    "    \n",
    "    return (output_amount, output_count)\n",
    "       "
   ]
  },
  {
   "cell_type": "code",
   "execution_count": 25,
   "id": "19886d7c",
   "metadata": {},
   "outputs": [],
   "source": [
    "from collections import namedtuple"
   ]
  },
  {
   "cell_type": "code",
   "execution_count": 26,
   "id": "89562582",
   "metadata": {},
   "outputs": [],
   "source": [
    "RevenueRow = namedtuple('RevenueRow', ['hour', 'zone', 'revenue', 'count'])"
   ]
  },
  {
   "cell_type": "code",
   "execution_count": 27,
   "id": "25a78302",
   "metadata": {},
   "outputs": [],
   "source": [
    "def unwrap(row):\n",
    "    return RevenueRow(\n",
    "        hour = row[0][0],\n",
    "        zone = row[0][1],\n",
    "        revenue = row[1][0],\n",
    "        count = row[1][1]\n",
    "        )"
   ]
  },
  {
   "cell_type": "code",
   "execution_count": 28,
   "id": "ba2d0bcf",
   "metadata": {},
   "outputs": [
    {
     "name": "stderr",
     "output_type": "stream",
     "text": [
      "                                                                                \r"
     ]
    },
    {
     "name": "stdout",
     "output_type": "stream",
     "text": [
      "+-------------------+----+------------------+-----+\n",
      "|               hour|zone|           revenue|count|\n",
      "+-------------------+----+------------------+-----+\n",
      "|2020-01-31 08:00:00| 166| 487.2900000000001|   28|\n",
      "|2020-01-12 18:00:00|  41| 916.7399999999996|   66|\n",
      "|2020-01-17 11:00:00| 116|233.65000000000003|   14|\n",
      "|2020-01-27 18:00:00|  75|1256.4599999999998|   86|\n",
      "|2020-01-09 09:00:00|  35|342.08000000000004|   14|\n",
      "|2020-01-16 06:00:00|  42|            337.77|   14|\n",
      "|2020-01-05 07:00:00|  76|             62.56|    4|\n",
      "|2020-01-04 23:00:00| 205|              58.8|    1|\n",
      "|2020-01-15 19:00:00|  61|197.76000000000005|    9|\n",
      "|2020-01-30 11:00:00|  25| 290.3300000000001|   16|\n",
      "|2020-01-30 19:00:00| 255|186.77999999999997|   14|\n",
      "|2020-01-14 20:00:00|  41| 624.4899999999998|   43|\n",
      "|2020-01-24 16:00:00|  95| 636.4799999999997|   52|\n",
      "|2020-01-13 13:00:00|  41| 589.3199999999998|   45|\n",
      "|2020-01-12 20:00:00|  42| 333.5700000000001|   22|\n",
      "|2020-01-16 09:00:00|  74|1392.6799999999987|   98|\n",
      "|2020-01-12 18:00:00|  97| 715.1399999999999|   49|\n",
      "|2020-01-29 17:00:00|  33|            652.85|   36|\n",
      "|2020-01-21 13:00:00| 169|150.22000000000003|    6|\n",
      "|2020-01-12 23:00:00| 247| 77.89999999999999|    3|\n",
      "+-------------------+----+------------------+-----+\n",
      "only showing top 20 rows\n",
      "\n"
     ]
    }
   ],
   "source": [
    "rdd \\\n",
    "    .filter(filter_outliers) \\\n",
    "    .map(prepare_for_grouping) \\\n",
    "    .reduceByKey(calculate_revenue) \\\n",
    "    .map(unwrap) \\\n",
    "    .toDF() \\\n",
    "    .show()"
   ]
  },
  {
   "cell_type": "code",
   "execution_count": 29,
   "id": "2cb14113",
   "metadata": {},
   "outputs": [
    {
     "name": "stderr",
     "output_type": "stream",
     "text": [
      "                                                                                \r"
     ]
    }
   ],
   "source": [
    "df_result = rdd \\\n",
    "    .filter(filter_outliers) \\\n",
    "    .map(prepare_for_grouping) \\\n",
    "    .reduceByKey(calculate_revenue) \\\n",
    "    .map(unwrap) \\\n",
    "    .toDF()"
   ]
  },
  {
   "cell_type": "code",
   "execution_count": 31,
   "id": "d83b72af",
   "metadata": {},
   "outputs": [
    {
     "data": {
      "text/plain": [
       "StructType([StructField('hour', TimestampType(), True), StructField('zone', LongType(), True), StructField('revenue', DoubleType(), True), StructField('count', LongType(), True)])"
      ]
     },
     "execution_count": 31,
     "metadata": {},
     "output_type": "execute_result"
    }
   ],
   "source": [
    "df_result.schema"
   ]
  },
  {
   "cell_type": "code",
   "execution_count": 32,
   "id": "22054c65",
   "metadata": {},
   "outputs": [],
   "source": [
    "from pyspark.sql import types"
   ]
  },
  {
   "cell_type": "code",
   "execution_count": 33,
   "id": "530dc02a",
   "metadata": {},
   "outputs": [],
   "source": [
    "result_schema = types.StructType([\n",
    "    types.StructField('hour', types.TimestampType(), True),\n",
    "    types.StructField('zone', types.IntegerType(), True),\n",
    "    types.StructField('revenue', types.DoubleType(), True),\n",
    "    types.StructField('count', types.IntegerType(), True)\n",
    "    ])"
   ]
  },
  {
   "cell_type": "code",
   "execution_count": 34,
   "id": "708217bc",
   "metadata": {},
   "outputs": [],
   "source": [
    "df_result = rdd \\\n",
    "    .filter(filter_outliers) \\\n",
    "    .map(prepare_for_grouping) \\\n",
    "    .reduceByKey(calculate_revenue) \\\n",
    "    .map(unwrap) \\\n",
    "    .toDF(result_schema)"
   ]
  },
  {
   "cell_type": "code",
   "execution_count": 35,
   "id": "3b2d153f",
   "metadata": {},
   "outputs": [
    {
     "name": "stderr",
     "output_type": "stream",
     "text": [
      "[Stage 15:===========================================>              (3 + 1) / 4]\r"
     ]
    },
    {
     "name": "stdout",
     "output_type": "stream",
     "text": [
      "+-------------------+----+------------------+-----+\n",
      "|               hour|zone|           revenue|count|\n",
      "+-------------------+----+------------------+-----+\n",
      "|2020-01-31 08:00:00| 166| 487.2900000000001|   28|\n",
      "|2020-01-12 18:00:00|  41| 916.7399999999996|   66|\n",
      "|2020-01-17 11:00:00| 116|233.65000000000003|   14|\n",
      "|2020-01-27 18:00:00|  75|1256.4599999999998|   86|\n",
      "|2020-01-09 09:00:00|  35|342.08000000000004|   14|\n",
      "|2020-01-16 06:00:00|  42|            337.77|   14|\n",
      "|2020-01-05 07:00:00|  76|             62.56|    4|\n",
      "|2020-01-04 23:00:00| 205|              58.8|    1|\n",
      "|2020-01-15 19:00:00|  61|197.76000000000005|    9|\n",
      "|2020-01-30 11:00:00|  25| 290.3300000000001|   16|\n",
      "|2020-01-30 19:00:00| 255|186.77999999999997|   14|\n",
      "|2020-01-14 20:00:00|  41| 624.4899999999998|   43|\n",
      "|2020-01-24 16:00:00|  95| 636.4799999999997|   52|\n",
      "|2020-01-13 13:00:00|  41| 589.3199999999998|   45|\n",
      "|2020-01-12 20:00:00|  42| 333.5700000000001|   22|\n",
      "|2020-01-16 09:00:00|  74|1392.6799999999987|   98|\n",
      "|2020-01-12 18:00:00|  97| 715.1399999999999|   49|\n",
      "|2020-01-29 17:00:00|  33|            652.85|   36|\n",
      "|2020-01-21 13:00:00| 169|150.22000000000003|    6|\n",
      "|2020-01-12 23:00:00| 247| 77.89999999999999|    3|\n",
      "+-------------------+----+------------------+-----+\n",
      "only showing top 20 rows\n",
      "\n"
     ]
    },
    {
     "name": "stderr",
     "output_type": "stream",
     "text": [
      "\r",
      "                                                                                \r"
     ]
    }
   ],
   "source": [
    "df_result.show()"
   ]
  },
  {
   "cell_type": "code",
   "execution_count": 36,
   "id": "777f697e",
   "metadata": {},
   "outputs": [
    {
     "ename": "AnalysisException",
     "evalue": "path file:/home/udengine/git/data-engineering-zoomcamp/week_5_batch_processing/code/tmp/green-revenue already exists.",
     "output_type": "error",
     "traceback": [
      "\u001b[0;31m---------------------------------------------------------------------------\u001b[0m",
      "\u001b[0;31mAnalysisException\u001b[0m                         Traceback (most recent call last)",
      "\u001b[0;32m/tmp/ipykernel_24925/730806120.py\u001b[0m in \u001b[0;36m<module>\u001b[0;34m\u001b[0m\n\u001b[0;32m----> 1\u001b[0;31m \u001b[0mdf_result\u001b[0m\u001b[0;34m.\u001b[0m\u001b[0mwrite\u001b[0m\u001b[0;34m.\u001b[0m\u001b[0mparquet\u001b[0m\u001b[0;34m(\u001b[0m\u001b[0;34m'tmp/green-revenue'\u001b[0m\u001b[0;34m)\u001b[0m\u001b[0;34m\u001b[0m\u001b[0;34m\u001b[0m\u001b[0m\n\u001b[0m",
      "\u001b[0;32m~/spark/spark-3.3.2-bin-hadoop3/python/pyspark/sql/readwriter.py\u001b[0m in \u001b[0;36mparquet\u001b[0;34m(self, path, mode, partitionBy, compression)\u001b[0m\n\u001b[1;32m   1138\u001b[0m             \u001b[0mself\u001b[0m\u001b[0;34m.\u001b[0m\u001b[0mpartitionBy\u001b[0m\u001b[0;34m(\u001b[0m\u001b[0mpartitionBy\u001b[0m\u001b[0;34m)\u001b[0m\u001b[0;34m\u001b[0m\u001b[0;34m\u001b[0m\u001b[0m\n\u001b[1;32m   1139\u001b[0m         \u001b[0mself\u001b[0m\u001b[0;34m.\u001b[0m\u001b[0m_set_opts\u001b[0m\u001b[0;34m(\u001b[0m\u001b[0mcompression\u001b[0m\u001b[0;34m=\u001b[0m\u001b[0mcompression\u001b[0m\u001b[0;34m)\u001b[0m\u001b[0;34m\u001b[0m\u001b[0;34m\u001b[0m\u001b[0m\n\u001b[0;32m-> 1140\u001b[0;31m         \u001b[0mself\u001b[0m\u001b[0;34m.\u001b[0m\u001b[0m_jwrite\u001b[0m\u001b[0;34m.\u001b[0m\u001b[0mparquet\u001b[0m\u001b[0;34m(\u001b[0m\u001b[0mpath\u001b[0m\u001b[0;34m)\u001b[0m\u001b[0;34m\u001b[0m\u001b[0;34m\u001b[0m\u001b[0m\n\u001b[0m\u001b[1;32m   1141\u001b[0m \u001b[0;34m\u001b[0m\u001b[0m\n\u001b[1;32m   1142\u001b[0m     def text(\n",
      "\u001b[0;32m~/spark/spark-3.3.2-bin-hadoop3/python/lib/py4j-0.10.9.5-src.zip/py4j/java_gateway.py\u001b[0m in \u001b[0;36m__call__\u001b[0;34m(self, *args)\u001b[0m\n\u001b[1;32m   1319\u001b[0m \u001b[0;34m\u001b[0m\u001b[0m\n\u001b[1;32m   1320\u001b[0m         \u001b[0manswer\u001b[0m \u001b[0;34m=\u001b[0m \u001b[0mself\u001b[0m\u001b[0;34m.\u001b[0m\u001b[0mgateway_client\u001b[0m\u001b[0;34m.\u001b[0m\u001b[0msend_command\u001b[0m\u001b[0;34m(\u001b[0m\u001b[0mcommand\u001b[0m\u001b[0;34m)\u001b[0m\u001b[0;34m\u001b[0m\u001b[0;34m\u001b[0m\u001b[0m\n\u001b[0;32m-> 1321\u001b[0;31m         return_value = get_return_value(\n\u001b[0m\u001b[1;32m   1322\u001b[0m             answer, self.gateway_client, self.target_id, self.name)\n\u001b[1;32m   1323\u001b[0m \u001b[0;34m\u001b[0m\u001b[0m\n",
      "\u001b[0;32m~/spark/spark-3.3.2-bin-hadoop3/python/pyspark/sql/utils.py\u001b[0m in \u001b[0;36mdeco\u001b[0;34m(*a, **kw)\u001b[0m\n\u001b[1;32m    194\u001b[0m                 \u001b[0;31m# Hide where the exception came from that shows a non-Pythonic\u001b[0m\u001b[0;34m\u001b[0m\u001b[0;34m\u001b[0m\u001b[0m\n\u001b[1;32m    195\u001b[0m                 \u001b[0;31m# JVM exception message.\u001b[0m\u001b[0;34m\u001b[0m\u001b[0;34m\u001b[0m\u001b[0m\n\u001b[0;32m--> 196\u001b[0;31m                 \u001b[0;32mraise\u001b[0m \u001b[0mconverted\u001b[0m \u001b[0;32mfrom\u001b[0m \u001b[0;32mNone\u001b[0m\u001b[0;34m\u001b[0m\u001b[0;34m\u001b[0m\u001b[0m\n\u001b[0m\u001b[1;32m    197\u001b[0m             \u001b[0;32melse\u001b[0m\u001b[0;34m:\u001b[0m\u001b[0;34m\u001b[0m\u001b[0;34m\u001b[0m\u001b[0m\n\u001b[1;32m    198\u001b[0m                 \u001b[0;32mraise\u001b[0m\u001b[0;34m\u001b[0m\u001b[0;34m\u001b[0m\u001b[0m\n",
      "\u001b[0;31mAnalysisException\u001b[0m: path file:/home/udengine/git/data-engineering-zoomcamp/week_5_batch_processing/code/tmp/green-revenue already exists."
     ]
    }
   ],
   "source": [
    "df_result.write.parquet('tmp/green-revenue')"
   ]
  },
  {
   "cell_type": "code",
   "execution_count": 38,
   "id": "260b060a",
   "metadata": {},
   "outputs": [
    {
     "name": "stdout",
     "output_type": "stream",
     "text": [
      "+--------+--------------------+---------------------+------------------+----------+------------+------------+---------------+-------------+-----------+-----+-------+----------+------------+---------+---------------------+------------+------------+---------+--------------------+\n",
      "|VendorID|lpep_pickup_datetime|lpep_dropoff_datetime|store_and_fwd_flag|RatecodeID|PULocationID|DOLocationID|passenger_count|trip_distance|fare_amount|extra|mta_tax|tip_amount|tolls_amount|ehail_fee|improvement_surcharge|total_amount|payment_type|trip_type|congestion_surcharge|\n",
      "+--------+--------------------+---------------------+------------------+----------+------------+------------+---------------+-------------+-----------+-----+-------+----------+------------+---------+---------------------+------------+------------+---------+--------------------+\n",
      "|       2| 2020-01-16 23:31:44|  2020-01-16 23:46:21|                 N|         1|          65|          56|              1|          8.6|       24.5|  0.5|    0.5|       0.0|         0.0|     null|                  0.3|        25.8|           2|        1|                 0.0|\n",
      "|       2| 2020-01-14 15:01:42|  2020-01-14 15:28:14|                 N|         1|         129|         141|              5|         5.16|       20.5|  0.0|    0.5|       0.0|         0.0|     null|                  0.3|       24.05|           2|        1|                2.75|\n",
      "|    null| 2020-01-24 05:55:00|  2020-01-24 06:26:00|              null|      null|         242|         261|           null|        16.27|       53.2| 2.75|    0.5|       0.0|        6.12|     null|                  0.3|       62.87|        null|     null|                null|\n",
      "|       2| 2020-01-31 08:19:03|  2020-01-31 08:24:35|                 N|         1|         166|         238|              1|         1.42|        6.5|  0.0|    0.5|      1.46|         0.0|     null|                  0.3|        8.76|           1|        1|                 0.0|\n",
      "|    null| 2020-01-12 18:54:00|  2020-01-12 19:11:00|              null|      null|          41|         235|           null|         4.62|      14.24|  0.0|    0.0|       0.0|         0.0|     null|                  0.3|       14.54|        null|     null|                null|\n",
      "|       2| 2020-01-11 17:13:41|  2020-01-11 17:33:40|                 N|         1|          66|          49|              6|         2.67|       14.5|  0.0|    0.5|      3.06|         0.0|     null|                  0.3|       18.36|           1|        1|                 0.0|\n",
      "|       2| 2020-01-29 19:23:03|  2020-01-29 19:29:47|                 N|         1|         260|         226|              2|         0.64|        6.0|  1.0|    0.5|       1.0|         0.0|     null|                  0.3|         8.8|           1|        1|                 0.0|\n",
      "|       2| 2020-01-26 11:45:13|  2020-01-26 11:47:10|                 N|         1|         116|         116|              1|         0.43|        3.5|  0.0|    0.5|       0.0|         0.0|     null|                  0.3|         4.3|           2|        1|                 0.0|\n",
      "|       2| 2020-01-03 08:58:57|  2020-01-03 09:07:19|                 N|         1|          74|          75|              1|         1.38|        7.0|  0.0|    0.5|       0.0|         0.0|     null|                  0.3|         7.8|           2|        1|                 0.0|\n",
      "|       2| 2020-01-27 21:56:19|  2020-01-27 22:01:04|                 N|         1|          41|          74|              1|          1.0|        5.5|  0.5|    0.5|      1.02|         0.0|     null|                  0.3|        7.82|           1|        1|                 0.0|\n",
      "|       2| 2020-01-09 20:15:26|  2020-01-09 20:27:42|                 N|         1|         260|         129|              2|         1.42|        9.0|  0.5|    0.5|       0.0|         0.0|     null|                  0.3|        10.3|           2|        1|                 0.0|\n",
      "|    null| 2020-01-24 14:53:00|  2020-01-24 15:21:00|              null|      null|         167|          46|           null|         8.23|      33.66| 2.75|    0.0|       0.0|         0.0|     null|                  0.3|       36.71|        null|     null|                null|\n",
      "|    null| 2020-01-19 17:16:00|  2020-01-19 17:41:00|              null|      null|         223|          82|           null|         6.71|      25.21| 2.75|    0.0|       0.0|         0.0|     null|                  0.3|       28.26|        null|     null|                null|\n",
      "|       1| 2020-01-07 11:58:40|  2020-01-07 12:38:14|                 N|         1|          33|          76|              1|          0.0|       26.2|  0.0|    0.5|       0.0|         0.0|     null|                  0.3|        27.0|           1|        1|                 0.0|\n",
      "|    null| 2020-01-05 13:03:00|  2020-01-05 13:24:00|              null|      null|         117|         124|           null|         8.25|      38.46| 2.75|    0.0|       0.0|        2.29|     null|                  0.3|        43.8|        null|     null|                null|\n",
      "|       2| 2020-01-18 03:36:05|  2020-01-18 03:44:35|                 N|         1|          80|          80|              1|         1.43|        8.0|  0.5|    0.5|      1.86|         0.0|     null|                  0.3|       11.16|           1|        1|                 0.0|\n",
      "|    null| 2020-01-24 18:35:00|  2020-01-24 19:18:00|              null|      null|          45|         124|           null|        10.24|      40.45| 2.75|    0.0|       0.0|         0.0|     null|                  0.3|        43.5|        null|     null|                null|\n",
      "|       2| 2020-01-16 21:37:47|  2020-01-16 21:41:29|                 N|         1|         181|         181|              1|         0.61|        4.5|  0.5|    0.5|      1.45|         0.0|     null|                  0.3|        7.25|           1|        1|                 0.0|\n",
      "|       2| 2020-01-02 01:14:51|  2020-01-02 01:21:39|                 N|         1|          82|          56|              1|         1.62|        7.5|  0.5|    0.5|       0.0|         0.0|     null|                  0.3|         8.8|           2|        1|                 0.0|\n",
      "|       2| 2020-01-17 11:35:04|  2020-01-17 11:57:37|                 N|         1|         116|          74|              1|         3.43|       16.5|  0.0|    0.5|       1.0|         0.0|     null|                  0.3|        18.3|           1|        1|                 0.0|\n",
      "+--------+--------------------+---------------------+------------------+----------+------------+------------+---------------+-------------+-----------+-----+-------+----------+------------+---------+---------------------+------------+------------+---------+--------------------+\n",
      "only showing top 20 rows\n",
      "\n"
     ]
    }
   ],
   "source": [
    "df_green.show()"
   ]
  },
  {
   "cell_type": "code",
   "execution_count": 39,
   "id": "637d2604",
   "metadata": {},
   "outputs": [
    {
     "name": "stdout",
     "output_type": "stream",
     "text": [
      "+--------+--------------------+------------+------------+-------------+\n",
      "|VendorID|lpep_pickup_datetime|PULocationID|DOLocationID|trip_distance|\n",
      "+--------+--------------------+------------+------------+-------------+\n",
      "|       2| 2020-01-16 23:31:44|          65|          56|          8.6|\n",
      "|       2| 2020-01-14 15:01:42|         129|         141|         5.16|\n",
      "|    null| 2020-01-24 05:55:00|         242|         261|        16.27|\n",
      "|       2| 2020-01-31 08:19:03|         166|         238|         1.42|\n",
      "|    null| 2020-01-12 18:54:00|          41|         235|         4.62|\n",
      "|       2| 2020-01-11 17:13:41|          66|          49|         2.67|\n",
      "|       2| 2020-01-29 19:23:03|         260|         226|         0.64|\n",
      "|       2| 2020-01-26 11:45:13|         116|         116|         0.43|\n",
      "|       2| 2020-01-03 08:58:57|          74|          75|         1.38|\n",
      "|       2| 2020-01-27 21:56:19|          41|          74|          1.0|\n",
      "|       2| 2020-01-09 20:15:26|         260|         129|         1.42|\n",
      "|    null| 2020-01-24 14:53:00|         167|          46|         8.23|\n",
      "|    null| 2020-01-19 17:16:00|         223|          82|         6.71|\n",
      "|       1| 2020-01-07 11:58:40|          33|          76|          0.0|\n",
      "|    null| 2020-01-05 13:03:00|         117|         124|         8.25|\n",
      "|       2| 2020-01-18 03:36:05|          80|          80|         1.43|\n",
      "|    null| 2020-01-24 18:35:00|          45|         124|        10.24|\n",
      "|       2| 2020-01-16 21:37:47|         181|         181|         0.61|\n",
      "|       2| 2020-01-02 01:14:51|          82|          56|         1.62|\n",
      "|       2| 2020-01-17 11:35:04|         116|          74|         3.43|\n",
      "+--------+--------------------+------------+------------+-------------+\n",
      "only showing top 20 rows\n",
      "\n"
     ]
    }
   ],
   "source": [
    "columns = ['VendorID', 'lpep_pickup_datetime', 'PULocationID', 'DOLocationID', 'trip_distance']\n",
    "\n",
    "df_green \\\n",
    "    .select(columns) \\\n",
    "    .show()"
   ]
  },
  {
   "cell_type": "code",
   "execution_count": 40,
   "id": "cbec73fa",
   "metadata": {},
   "outputs": [],
   "source": [
    "dur_rdd = df_green \\\n",
    "    .select(columns) \\\n",
    "    .rdd"
   ]
  },
  {
   "cell_type": "code",
   "execution_count": 41,
   "id": "7852d263",
   "metadata": {},
   "outputs": [
    {
     "data": {
      "text/plain": [
       "[Row(lpep_pickup_datetime=datetime.datetime(2020, 1, 16, 23, 31, 44), PULocationID=65, total_amount=25.8),\n",
       " Row(lpep_pickup_datetime=datetime.datetime(2020, 1, 14, 15, 1, 42), PULocationID=129, total_amount=24.05),\n",
       " Row(lpep_pickup_datetime=datetime.datetime(2020, 1, 24, 5, 55), PULocationID=242, total_amount=62.87),\n",
       " Row(lpep_pickup_datetime=datetime.datetime(2020, 1, 31, 8, 19, 3), PULocationID=166, total_amount=8.76),\n",
       " Row(lpep_pickup_datetime=datetime.datetime(2020, 1, 12, 18, 54), PULocationID=41, total_amount=14.54)]"
      ]
     },
     "execution_count": 41,
     "metadata": {},
     "output_type": "execute_result"
    }
   ],
   "source": [
    "rdd.take(5)"
   ]
  },
  {
   "cell_type": "code",
   "execution_count": 42,
   "id": "7224e382",
   "metadata": {},
   "outputs": [],
   "source": [
    "import pandas as pd"
   ]
  },
  {
   "cell_type": "code",
   "execution_count": 43,
   "id": "8d3d5d7d",
   "metadata": {},
   "outputs": [],
   "source": [
    "rows = dur_rdd.take(10)"
   ]
  },
  {
   "cell_type": "code",
   "execution_count": 44,
   "id": "5fda940c",
   "metadata": {},
   "outputs": [
    {
     "data": {
      "text/plain": [
       "[Row(VendorID=2, lpep_pickup_datetime=datetime.datetime(2020, 1, 16, 23, 31, 44), PULocationID=65, DOLocationID=56, trip_distance=8.6),\n",
       " Row(VendorID=2, lpep_pickup_datetime=datetime.datetime(2020, 1, 14, 15, 1, 42), PULocationID=129, DOLocationID=141, trip_distance=5.16),\n",
       " Row(VendorID=None, lpep_pickup_datetime=datetime.datetime(2020, 1, 24, 5, 55), PULocationID=242, DOLocationID=261, trip_distance=16.27),\n",
       " Row(VendorID=2, lpep_pickup_datetime=datetime.datetime(2020, 1, 31, 8, 19, 3), PULocationID=166, DOLocationID=238, trip_distance=1.42),\n",
       " Row(VendorID=None, lpep_pickup_datetime=datetime.datetime(2020, 1, 12, 18, 54), PULocationID=41, DOLocationID=235, trip_distance=4.62),\n",
       " Row(VendorID=2, lpep_pickup_datetime=datetime.datetime(2020, 1, 11, 17, 13, 41), PULocationID=66, DOLocationID=49, trip_distance=2.67),\n",
       " Row(VendorID=2, lpep_pickup_datetime=datetime.datetime(2020, 1, 29, 19, 23, 3), PULocationID=260, DOLocationID=226, trip_distance=0.64),\n",
       " Row(VendorID=2, lpep_pickup_datetime=datetime.datetime(2020, 1, 26, 11, 45, 13), PULocationID=116, DOLocationID=116, trip_distance=0.43),\n",
       " Row(VendorID=2, lpep_pickup_datetime=datetime.datetime(2020, 1, 3, 8, 58, 57), PULocationID=74, DOLocationID=75, trip_distance=1.38),\n",
       " Row(VendorID=2, lpep_pickup_datetime=datetime.datetime(2020, 1, 27, 21, 56, 19), PULocationID=41, DOLocationID=74, trip_distance=1.0)]"
      ]
     },
     "execution_count": 44,
     "metadata": {},
     "output_type": "execute_result"
    }
   ],
   "source": [
    "rows"
   ]
  },
  {
   "cell_type": "code",
   "execution_count": 45,
   "id": "96413f71",
   "metadata": {},
   "outputs": [
    {
     "data": {
      "text/html": [
       "<div>\n",
       "<style scoped>\n",
       "    .dataframe tbody tr th:only-of-type {\n",
       "        vertical-align: middle;\n",
       "    }\n",
       "\n",
       "    .dataframe tbody tr th {\n",
       "        vertical-align: top;\n",
       "    }\n",
       "\n",
       "    .dataframe thead th {\n",
       "        text-align: right;\n",
       "    }\n",
       "</style>\n",
       "<table border=\"1\" class=\"dataframe\">\n",
       "  <thead>\n",
       "    <tr style=\"text-align: right;\">\n",
       "      <th></th>\n",
       "      <th>VendorID</th>\n",
       "      <th>lpep_pickup_datetime</th>\n",
       "      <th>PULocationID</th>\n",
       "      <th>DOLocationID</th>\n",
       "      <th>trip_distance</th>\n",
       "    </tr>\n",
       "  </thead>\n",
       "  <tbody>\n",
       "    <tr>\n",
       "      <th>0</th>\n",
       "      <td>2.0</td>\n",
       "      <td>2020-01-16 23:31:44</td>\n",
       "      <td>65</td>\n",
       "      <td>56</td>\n",
       "      <td>8.60</td>\n",
       "    </tr>\n",
       "    <tr>\n",
       "      <th>1</th>\n",
       "      <td>2.0</td>\n",
       "      <td>2020-01-14 15:01:42</td>\n",
       "      <td>129</td>\n",
       "      <td>141</td>\n",
       "      <td>5.16</td>\n",
       "    </tr>\n",
       "    <tr>\n",
       "      <th>2</th>\n",
       "      <td>NaN</td>\n",
       "      <td>2020-01-24 05:55:00</td>\n",
       "      <td>242</td>\n",
       "      <td>261</td>\n",
       "      <td>16.27</td>\n",
       "    </tr>\n",
       "    <tr>\n",
       "      <th>3</th>\n",
       "      <td>2.0</td>\n",
       "      <td>2020-01-31 08:19:03</td>\n",
       "      <td>166</td>\n",
       "      <td>238</td>\n",
       "      <td>1.42</td>\n",
       "    </tr>\n",
       "    <tr>\n",
       "      <th>4</th>\n",
       "      <td>NaN</td>\n",
       "      <td>2020-01-12 18:54:00</td>\n",
       "      <td>41</td>\n",
       "      <td>235</td>\n",
       "      <td>4.62</td>\n",
       "    </tr>\n",
       "    <tr>\n",
       "      <th>5</th>\n",
       "      <td>2.0</td>\n",
       "      <td>2020-01-11 17:13:41</td>\n",
       "      <td>66</td>\n",
       "      <td>49</td>\n",
       "      <td>2.67</td>\n",
       "    </tr>\n",
       "    <tr>\n",
       "      <th>6</th>\n",
       "      <td>2.0</td>\n",
       "      <td>2020-01-29 19:23:03</td>\n",
       "      <td>260</td>\n",
       "      <td>226</td>\n",
       "      <td>0.64</td>\n",
       "    </tr>\n",
       "    <tr>\n",
       "      <th>7</th>\n",
       "      <td>2.0</td>\n",
       "      <td>2020-01-26 11:45:13</td>\n",
       "      <td>116</td>\n",
       "      <td>116</td>\n",
       "      <td>0.43</td>\n",
       "    </tr>\n",
       "    <tr>\n",
       "      <th>8</th>\n",
       "      <td>2.0</td>\n",
       "      <td>2020-01-03 08:58:57</td>\n",
       "      <td>74</td>\n",
       "      <td>75</td>\n",
       "      <td>1.38</td>\n",
       "    </tr>\n",
       "    <tr>\n",
       "      <th>9</th>\n",
       "      <td>2.0</td>\n",
       "      <td>2020-01-27 21:56:19</td>\n",
       "      <td>41</td>\n",
       "      <td>74</td>\n",
       "      <td>1.00</td>\n",
       "    </tr>\n",
       "  </tbody>\n",
       "</table>\n",
       "</div>"
      ],
      "text/plain": [
       "   VendorID lpep_pickup_datetime  PULocationID  DOLocationID  trip_distance\n",
       "0       2.0  2020-01-16 23:31:44            65            56           8.60\n",
       "1       2.0  2020-01-14 15:01:42           129           141           5.16\n",
       "2       NaN  2020-01-24 05:55:00           242           261          16.27\n",
       "3       2.0  2020-01-31 08:19:03           166           238           1.42\n",
       "4       NaN  2020-01-12 18:54:00            41           235           4.62\n",
       "5       2.0  2020-01-11 17:13:41            66            49           2.67\n",
       "6       2.0  2020-01-29 19:23:03           260           226           0.64\n",
       "7       2.0  2020-01-26 11:45:13           116           116           0.43\n",
       "8       2.0  2020-01-03 08:58:57            74            75           1.38\n",
       "9       2.0  2020-01-27 21:56:19            41            74           1.00"
      ]
     },
     "execution_count": 45,
     "metadata": {},
     "output_type": "execute_result"
    }
   ],
   "source": [
    "pd.DataFrame(rows, columns=columns)"
   ]
  },
  {
   "cell_type": "code",
   "execution_count": 46,
   "id": "3640e84d",
   "metadata": {},
   "outputs": [],
   "source": [
    "def apply_model_in_batch(partition):\n",
    "    cnt = 0\n",
    "    \n",
    "    for row in partition:\n",
    "        cnt = cnt + 1\n",
    "        \n",
    "    return [cnt]"
   ]
  },
  {
   "cell_type": "code",
   "execution_count": 47,
   "id": "e1c2a948",
   "metadata": {},
   "outputs": [
    {
     "name": "stderr",
     "output_type": "stream",
     "text": [
      "                                                                                \r"
     ]
    },
    {
     "data": {
      "text/plain": [
       "[1141148, 436983, 433476, 292910]"
      ]
     },
     "execution_count": 47,
     "metadata": {},
     "output_type": "execute_result"
    }
   ],
   "source": [
    "rdd.mapPartitions(apply_model_in_batch).collect()"
   ]
  },
  {
   "cell_type": "code",
   "execution_count": 48,
   "id": "c34143ba",
   "metadata": {},
   "outputs": [],
   "source": [
    "def apply_model_in_batch(rows):\n",
    "        \n",
    "    df = pd.DataFrame(rows, columns=columns)\n",
    "    cnt = len(df)\n",
    "        \n",
    "    return [cnt]"
   ]
  },
  {
   "cell_type": "code",
   "execution_count": 49,
   "id": "10304c7e",
   "metadata": {},
   "outputs": [
    {
     "name": "stderr",
     "output_type": "stream",
     "text": [
      "                                                                                \r"
     ]
    },
    {
     "data": {
      "text/plain": [
       "[1141148, 436983, 433476, 292910]"
      ]
     },
     "execution_count": 49,
     "metadata": {},
     "output_type": "execute_result"
    }
   ],
   "source": [
    "dur_rdd.mapPartitions(apply_model_in_batch).collect()"
   ]
  },
  {
   "cell_type": "code",
   "execution_count": 50,
   "id": "c125e9fd",
   "metadata": {},
   "outputs": [],
   "source": [
    "df = pd.DataFrame(rows, columns=columns)"
   ]
  },
  {
   "cell_type": "code",
   "execution_count": 51,
   "id": "15339be7",
   "metadata": {},
   "outputs": [
    {
     "data": {
      "text/plain": [
       "<map at 0x7f5a7adf7490>"
      ]
     },
     "execution_count": 51,
     "metadata": {},
     "output_type": "execute_result"
    }
   ],
   "source": [
    "df.itertuples()"
   ]
  },
  {
   "cell_type": "code",
   "execution_count": 52,
   "id": "3a5be99e",
   "metadata": {},
   "outputs": [
    {
     "data": {
      "text/plain": [
       "[Pandas(Index=0, VendorID=2.0, lpep_pickup_datetime=Timestamp('2020-01-16 23:31:44'), PULocationID=65, DOLocationID=56, trip_distance=8.6),\n",
       " Pandas(Index=1, VendorID=2.0, lpep_pickup_datetime=Timestamp('2020-01-14 15:01:42'), PULocationID=129, DOLocationID=141, trip_distance=5.16),\n",
       " Pandas(Index=2, VendorID=nan, lpep_pickup_datetime=Timestamp('2020-01-24 05:55:00'), PULocationID=242, DOLocationID=261, trip_distance=16.27),\n",
       " Pandas(Index=3, VendorID=2.0, lpep_pickup_datetime=Timestamp('2020-01-31 08:19:03'), PULocationID=166, DOLocationID=238, trip_distance=1.42),\n",
       " Pandas(Index=4, VendorID=nan, lpep_pickup_datetime=Timestamp('2020-01-12 18:54:00'), PULocationID=41, DOLocationID=235, trip_distance=4.62),\n",
       " Pandas(Index=5, VendorID=2.0, lpep_pickup_datetime=Timestamp('2020-01-11 17:13:41'), PULocationID=66, DOLocationID=49, trip_distance=2.67),\n",
       " Pandas(Index=6, VendorID=2.0, lpep_pickup_datetime=Timestamp('2020-01-29 19:23:03'), PULocationID=260, DOLocationID=226, trip_distance=0.64),\n",
       " Pandas(Index=7, VendorID=2.0, lpep_pickup_datetime=Timestamp('2020-01-26 11:45:13'), PULocationID=116, DOLocationID=116, trip_distance=0.43),\n",
       " Pandas(Index=8, VendorID=2.0, lpep_pickup_datetime=Timestamp('2020-01-03 08:58:57'), PULocationID=74, DOLocationID=75, trip_distance=1.38),\n",
       " Pandas(Index=9, VendorID=2.0, lpep_pickup_datetime=Timestamp('2020-01-27 21:56:19'), PULocationID=41, DOLocationID=74, trip_distance=1.0)]"
      ]
     },
     "execution_count": 52,
     "metadata": {},
     "output_type": "execute_result"
    }
   ],
   "source": [
    "list(df.itertuples())"
   ]
  },
  {
   "cell_type": "code",
   "execution_count": 64,
   "id": "bdc623cf",
   "metadata": {},
   "outputs": [],
   "source": [
    "# model = ...\n",
    "\n",
    "def model_predict(df):\n",
    "    \n",
    "    # y_pred = model.predict(df)\n",
    "    y_pred = df.trip_distance * 5\n",
    "    return y_pred"
   ]
  },
  {
   "cell_type": "code",
   "execution_count": 58,
   "id": "2d4585b5",
   "metadata": {},
   "outputs": [],
   "source": [
    "def infinite_seq():\n",
    "    i = 0\n",
    "    \n",
    "    while True:\n",
    "        yield i\n",
    "        i = i +1\n",
    "        \n",
    "        if i > 30:\n",
    "            break"
   ]
  },
  {
   "cell_type": "code",
   "execution_count": 59,
   "id": "0b0734f4",
   "metadata": {},
   "outputs": [],
   "source": [
    "seq = infinite_seq()"
   ]
  },
  {
   "cell_type": "code",
   "execution_count": 56,
   "id": "240e5d20",
   "metadata": {},
   "outputs": [
    {
     "data": {
      "text/plain": [
       "<generator object infinite_seq at 0x7f5a7ad2a200>"
      ]
     },
     "execution_count": 56,
     "metadata": {},
     "output_type": "execute_result"
    }
   ],
   "source": [
    "seq"
   ]
  },
  {
   "cell_type": "code",
   "execution_count": 110,
   "id": "fc9d2042",
   "metadata": {},
   "outputs": [
    {
     "data": {
      "text/plain": [
       "13"
      ]
     },
     "execution_count": 110,
     "metadata": {},
     "output_type": "execute_result"
    }
   ],
   "source": [
    "next(seq)"
   ]
  },
  {
   "cell_type": "code",
   "execution_count": 61,
   "id": "b902cf6d",
   "metadata": {},
   "outputs": [
    {
     "data": {
      "text/plain": [
       "[0,\n",
       " 1,\n",
       " 2,\n",
       " 3,\n",
       " 4,\n",
       " 5,\n",
       " 6,\n",
       " 7,\n",
       " 8,\n",
       " 9,\n",
       " 10,\n",
       " 11,\n",
       " 12,\n",
       " 13,\n",
       " 14,\n",
       " 15,\n",
       " 16,\n",
       " 17,\n",
       " 18,\n",
       " 19,\n",
       " 20,\n",
       " 21,\n",
       " 22,\n",
       " 23,\n",
       " 24,\n",
       " 25,\n",
       " 26,\n",
       " 27,\n",
       " 28,\n",
       " 29,\n",
       " 30]"
      ]
     },
     "execution_count": 61,
     "metadata": {},
     "output_type": "execute_result"
    }
   ],
   "source": [
    "list(seq)"
   ]
  },
  {
   "cell_type": "code",
   "execution_count": 57,
   "id": "a65ac55a",
   "metadata": {},
   "outputs": [
    {
     "name": "stdout",
     "output_type": "stream",
     "text": [
      "0\n",
      "1\n",
      "2\n",
      "3\n",
      "4\n",
      "5\n",
      "6\n",
      "7\n",
      "8\n",
      "9\n",
      "10\n",
      "11\n",
      "12\n",
      "13\n",
      "14\n",
      "15\n",
      "16\n",
      "17\n",
      "18\n",
      "19\n",
      "20\n"
     ]
    }
   ],
   "source": [
    "for i in seq:\n",
    "    print(i)\n",
    "    \n",
    "    if i >= 20:\n",
    "        break"
   ]
  },
  {
   "cell_type": "code",
   "execution_count": 62,
   "id": "a4cb4899",
   "metadata": {},
   "outputs": [],
   "source": [
    "def apply_model_in_batch(rows):\n",
    "        \n",
    "    df = pd.DataFrame(rows, columns=columns)\n",
    "    predictions = model_predict(df)\n",
    "    df['predicted_duration'] = predictions\n",
    "    \n",
    "    for row in df.itertuples():\n",
    "        yield row\n",
    "        \n",
    "    "
   ]
  },
  {
   "cell_type": "code",
   "execution_count": 65,
   "id": "03e2a166",
   "metadata": {},
   "outputs": [
    {
     "name": "stderr",
     "output_type": "stream",
     "text": [
      "                                                                                \r"
     ]
    },
    {
     "data": {
      "text/plain": [
       "[Pandas(Index=0, VendorID=2.0, lpep_pickup_datetime=Timestamp('2020-01-16 23:31:44'), PULocationID=65, DOLocationID=56, trip_distance=8.6, predicted_duration=43.0),\n",
       " Pandas(Index=1, VendorID=2.0, lpep_pickup_datetime=Timestamp('2020-01-14 15:01:42'), PULocationID=129, DOLocationID=141, trip_distance=5.16, predicted_duration=25.8),\n",
       " Pandas(Index=2, VendorID=nan, lpep_pickup_datetime=Timestamp('2020-01-24 05:55:00'), PULocationID=242, DOLocationID=261, trip_distance=16.27, predicted_duration=81.35),\n",
       " Pandas(Index=3, VendorID=2.0, lpep_pickup_datetime=Timestamp('2020-01-31 08:19:03'), PULocationID=166, DOLocationID=238, trip_distance=1.42, predicted_duration=7.1),\n",
       " Pandas(Index=4, VendorID=nan, lpep_pickup_datetime=Timestamp('2020-01-12 18:54:00'), PULocationID=41, DOLocationID=235, trip_distance=4.62, predicted_duration=23.1),\n",
       " Pandas(Index=5, VendorID=2.0, lpep_pickup_datetime=Timestamp('2020-01-11 17:13:41'), PULocationID=66, DOLocationID=49, trip_distance=2.67, predicted_duration=13.35),\n",
       " Pandas(Index=6, VendorID=2.0, lpep_pickup_datetime=Timestamp('2020-01-29 19:23:03'), PULocationID=260, DOLocationID=226, trip_distance=0.64, predicted_duration=3.2),\n",
       " Pandas(Index=7, VendorID=2.0, lpep_pickup_datetime=Timestamp('2020-01-26 11:45:13'), PULocationID=116, DOLocationID=116, trip_distance=0.43, predicted_duration=2.15),\n",
       " Pandas(Index=8, VendorID=2.0, lpep_pickup_datetime=Timestamp('2020-01-03 08:58:57'), PULocationID=74, DOLocationID=75, trip_distance=1.38, predicted_duration=6.8999999999999995),\n",
       " Pandas(Index=9, VendorID=2.0, lpep_pickup_datetime=Timestamp('2020-01-27 21:56:19'), PULocationID=41, DOLocationID=74, trip_distance=1.0, predicted_duration=5.0)]"
      ]
     },
     "execution_count": 65,
     "metadata": {},
     "output_type": "execute_result"
    }
   ],
   "source": [
    "dur_rdd.mapPartitions(apply_model_in_batch).take(10)"
   ]
  },
  {
   "cell_type": "code",
   "execution_count": 69,
   "id": "8adef5b4",
   "metadata": {},
   "outputs": [
    {
     "name": "stderr",
     "output_type": "stream",
     "text": [
      "                                                                                \r"
     ]
    }
   ],
   "source": [
    "df_predicts = dur_rdd \\\n",
    "    .mapPartitions(apply_model_in_batch) \\\n",
    "    .toDF() \\\n",
    "    .drop('Index')"
   ]
  },
  {
   "cell_type": "code",
   "execution_count": 71,
   "id": "ca6cbb36",
   "metadata": {},
   "outputs": [
    {
     "name": "stderr",
     "output_type": "stream",
     "text": [
      "\r",
      "[Stage 30:>                                                         (0 + 1) / 1]\r"
     ]
    },
    {
     "name": "stdout",
     "output_type": "stream",
     "text": [
      "+--------+--------------------+------------+------------+-------------+------------------+\n",
      "|VendorID|lpep_pickup_datetime|PULocationID|DOLocationID|trip_distance|predicted_duration|\n",
      "+--------+--------------------+------------+------------+-------------+------------------+\n",
      "|     2.0|                  {}|          65|          56|          8.6|              43.0|\n",
      "|     2.0|                  {}|         129|         141|         5.16|              25.8|\n",
      "|     NaN|                  {}|         242|         261|        16.27|             81.35|\n",
      "|     2.0|                  {}|         166|         238|         1.42|               7.1|\n",
      "|     NaN|                  {}|          41|         235|         4.62|              23.1|\n",
      "|     2.0|                  {}|          66|          49|         2.67|             13.35|\n",
      "|     2.0|                  {}|         260|         226|         0.64|               3.2|\n",
      "|     2.0|                  {}|         116|         116|         0.43|              2.15|\n",
      "|     2.0|                  {}|          74|          75|         1.38|6.8999999999999995|\n",
      "|     2.0|                  {}|          41|          74|          1.0|               5.0|\n",
      "|     2.0|                  {}|         260|         129|         1.42|               7.1|\n",
      "|     NaN|                  {}|         167|          46|         8.23|41.150000000000006|\n",
      "|     NaN|                  {}|         223|          82|         6.71|             33.55|\n",
      "|     1.0|                  {}|          33|          76|          0.0|               0.0|\n",
      "|     NaN|                  {}|         117|         124|         8.25|             41.25|\n",
      "|     2.0|                  {}|          80|          80|         1.43|7.1499999999999995|\n",
      "|     NaN|                  {}|          45|         124|        10.24|              51.2|\n",
      "|     2.0|                  {}|         181|         181|         0.61|              3.05|\n",
      "|     2.0|                  {}|          82|          56|         1.62| 8.100000000000001|\n",
      "|     2.0|                  {}|         116|          74|         3.43|17.150000000000002|\n",
      "+--------+--------------------+------------+------------+-------------+------------------+\n",
      "only showing top 20 rows\n",
      "\n"
     ]
    },
    {
     "name": "stderr",
     "output_type": "stream",
     "text": [
      "\r",
      "                                                                                \r"
     ]
    }
   ],
   "source": [
    "df_predicts.show()"
   ]
  },
  {
   "cell_type": "code",
   "execution_count": 72,
   "id": "92ce8804",
   "metadata": {},
   "outputs": [
    {
     "name": "stderr",
     "output_type": "stream",
     "text": [
      "\r",
      "[Stage 31:>                                                         (0 + 1) / 1]\r"
     ]
    },
    {
     "name": "stdout",
     "output_type": "stream",
     "text": [
      "+------------------+\n",
      "|predicted_duration|\n",
      "+------------------+\n",
      "|              43.0|\n",
      "|              25.8|\n",
      "|             81.35|\n",
      "|               7.1|\n",
      "|              23.1|\n",
      "|             13.35|\n",
      "|               3.2|\n",
      "|              2.15|\n",
      "|6.8999999999999995|\n",
      "|               5.0|\n",
      "|               7.1|\n",
      "|41.150000000000006|\n",
      "|             33.55|\n",
      "|               0.0|\n",
      "|             41.25|\n",
      "|7.1499999999999995|\n",
      "|              51.2|\n",
      "|              3.05|\n",
      "| 8.100000000000001|\n",
      "|17.150000000000002|\n",
      "+------------------+\n",
      "only showing top 20 rows\n",
      "\n"
     ]
    },
    {
     "name": "stderr",
     "output_type": "stream",
     "text": [
      "\r",
      "                                                                                \r"
     ]
    }
   ],
   "source": [
    "df_predicts.select('predicted_duration').show()"
   ]
  },
  {
   "cell_type": "code",
   "execution_count": null,
   "id": "f8c6993e",
   "metadata": {},
   "outputs": [],
   "source": []
  }
 ],
 "metadata": {
  "kernelspec": {
   "display_name": "Python 3 (ipykernel)",
   "language": "python",
   "name": "python3"
  },
  "language_info": {
   "codemirror_mode": {
    "name": "ipython",
    "version": 3
   },
   "file_extension": ".py",
   "mimetype": "text/x-python",
   "name": "python",
   "nbconvert_exporter": "python",
   "pygments_lexer": "ipython3",
   "version": "3.9.13"
  }
 },
 "nbformat": 4,
 "nbformat_minor": 5
}
