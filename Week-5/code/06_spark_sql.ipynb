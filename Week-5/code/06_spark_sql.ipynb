{
 "cells": [
  {
   "cell_type": "code",
   "execution_count": 1,
   "id": "151b14ff",
   "metadata": {},
   "outputs": [
    {
     "name": "stdout",
     "output_type": "stream",
     "text": [
      "23/02/23 19:57:19 WARN Utils: Your hostname, dengine resolves to a loopback address: 127.0.1.1; using 192.168.1.221 instead (on interface ens18)\n",
      "23/02/23 19:57:19 WARN Utils: Set SPARK_LOCAL_IP if you need to bind to another address\n"
     ]
    },
    {
     "name": "stderr",
     "output_type": "stream",
     "text": [
      "Setting default log level to \"WARN\".\n",
      "To adjust logging level use sc.setLogLevel(newLevel). For SparkR, use setLogLevel(newLevel).\n"
     ]
    },
    {
     "name": "stdout",
     "output_type": "stream",
     "text": [
      "23/02/23 19:57:19 WARN NativeCodeLoader: Unable to load native-hadoop library for your platform... using builtin-java classes where applicable\n"
     ]
    }
   ],
   "source": [
    "import pyspark\n",
    "from pyspark.sql import SparkSession\n",
    "\n",
    "spark = SparkSession.builder \\\n",
    "    .master(\"local[*]\") \\\n",
    "    .appName('test') \\\n",
    "    .getOrCreate()"
   ]
  },
  {
   "cell_type": "code",
   "execution_count": 27,
   "id": "e4a4f3db",
   "metadata": {},
   "outputs": [],
   "source": [
    "df_green = spark.read.parquet('data/pq/green/*/*')"
   ]
  },
  {
   "cell_type": "code",
   "execution_count": 3,
   "id": "5200abc0",
   "metadata": {},
   "outputs": [
    {
     "name": "stdout",
     "output_type": "stream",
     "text": [
      "+--------+--------------------+---------------------+------------------+----------+------------+------------+---------------+-------------+-----------+-----+-------+----------+------------+---------+---------------------+------------+------------+---------+--------------------+\n",
      "|VendorID|lpep_pickup_datetime|lpep_dropoff_datetime|store_and_fwd_flag|RatecodeID|PULocationID|DOLocationID|passenger_count|trip_distance|fare_amount|extra|mta_tax|tip_amount|tolls_amount|ehail_fee|improvement_surcharge|total_amount|payment_type|trip_type|congestion_surcharge|\n",
      "+--------+--------------------+---------------------+------------------+----------+------------+------------+---------------+-------------+-----------+-----+-------+----------+------------+---------+---------------------+------------+------------+---------+--------------------+\n",
      "|       2| 2020-01-16 23:31:44|  2020-01-16 23:46:21|                 N|         1|          65|          56|              1|          8.6|       24.5|  0.5|    0.5|       0.0|         0.0|     null|                  0.3|        25.8|           2|        1|                 0.0|\n",
      "|       2| 2020-01-14 15:01:42|  2020-01-14 15:28:14|                 N|         1|         129|         141|              5|         5.16|       20.5|  0.0|    0.5|       0.0|         0.0|     null|                  0.3|       24.05|           2|        1|                2.75|\n",
      "|    null| 2020-01-24 05:55:00|  2020-01-24 06:26:00|              null|      null|         242|         261|           null|        16.27|       53.2| 2.75|    0.5|       0.0|        6.12|     null|                  0.3|       62.87|        null|     null|                null|\n",
      "|       2| 2020-01-31 08:19:03|  2020-01-31 08:24:35|                 N|         1|         166|         238|              1|         1.42|        6.5|  0.0|    0.5|      1.46|         0.0|     null|                  0.3|        8.76|           1|        1|                 0.0|\n",
      "|    null| 2020-01-12 18:54:00|  2020-01-12 19:11:00|              null|      null|          41|         235|           null|         4.62|      14.24|  0.0|    0.0|       0.0|         0.0|     null|                  0.3|       14.54|        null|     null|                null|\n",
      "|       2| 2020-01-11 17:13:41|  2020-01-11 17:33:40|                 N|         1|          66|          49|              6|         2.67|       14.5|  0.0|    0.5|      3.06|         0.0|     null|                  0.3|       18.36|           1|        1|                 0.0|\n",
      "|       2| 2020-01-29 19:23:03|  2020-01-29 19:29:47|                 N|         1|         260|         226|              2|         0.64|        6.0|  1.0|    0.5|       1.0|         0.0|     null|                  0.3|         8.8|           1|        1|                 0.0|\n",
      "|       2| 2020-01-26 11:45:13|  2020-01-26 11:47:10|                 N|         1|         116|         116|              1|         0.43|        3.5|  0.0|    0.5|       0.0|         0.0|     null|                  0.3|         4.3|           2|        1|                 0.0|\n",
      "|       2| 2020-01-03 08:58:57|  2020-01-03 09:07:19|                 N|         1|          74|          75|              1|         1.38|        7.0|  0.0|    0.5|       0.0|         0.0|     null|                  0.3|         7.8|           2|        1|                 0.0|\n",
      "|       2| 2020-01-27 21:56:19|  2020-01-27 22:01:04|                 N|         1|          41|          74|              1|          1.0|        5.5|  0.5|    0.5|      1.02|         0.0|     null|                  0.3|        7.82|           1|        1|                 0.0|\n",
      "|       2| 2020-01-09 20:15:26|  2020-01-09 20:27:42|                 N|         1|         260|         129|              2|         1.42|        9.0|  0.5|    0.5|       0.0|         0.0|     null|                  0.3|        10.3|           2|        1|                 0.0|\n",
      "|    null| 2020-01-24 14:53:00|  2020-01-24 15:21:00|              null|      null|         167|          46|           null|         8.23|      33.66| 2.75|    0.0|       0.0|         0.0|     null|                  0.3|       36.71|        null|     null|                null|\n",
      "|    null| 2020-01-19 17:16:00|  2020-01-19 17:41:00|              null|      null|         223|          82|           null|         6.71|      25.21| 2.75|    0.0|       0.0|         0.0|     null|                  0.3|       28.26|        null|     null|                null|\n",
      "|       1| 2020-01-07 11:58:40|  2020-01-07 12:38:14|                 N|         1|          33|          76|              1|          0.0|       26.2|  0.0|    0.5|       0.0|         0.0|     null|                  0.3|        27.0|           1|        1|                 0.0|\n",
      "|    null| 2020-01-05 13:03:00|  2020-01-05 13:24:00|              null|      null|         117|         124|           null|         8.25|      38.46| 2.75|    0.0|       0.0|        2.29|     null|                  0.3|        43.8|        null|     null|                null|\n",
      "|       2| 2020-01-18 03:36:05|  2020-01-18 03:44:35|                 N|         1|          80|          80|              1|         1.43|        8.0|  0.5|    0.5|      1.86|         0.0|     null|                  0.3|       11.16|           1|        1|                 0.0|\n",
      "|    null| 2020-01-24 18:35:00|  2020-01-24 19:18:00|              null|      null|          45|         124|           null|        10.24|      40.45| 2.75|    0.0|       0.0|         0.0|     null|                  0.3|        43.5|        null|     null|                null|\n",
      "|       2| 2020-01-16 21:37:47|  2020-01-16 21:41:29|                 N|         1|         181|         181|              1|         0.61|        4.5|  0.5|    0.5|      1.45|         0.0|     null|                  0.3|        7.25|           1|        1|                 0.0|\n",
      "|       2| 2020-01-02 01:14:51|  2020-01-02 01:21:39|                 N|         1|          82|          56|              1|         1.62|        7.5|  0.5|    0.5|       0.0|         0.0|     null|                  0.3|         8.8|           2|        1|                 0.0|\n",
      "|       2| 2020-01-17 11:35:04|  2020-01-17 11:57:37|                 N|         1|         116|          74|              1|         3.43|       16.5|  0.0|    0.5|       1.0|         0.0|     null|                  0.3|        18.3|           1|        1|                 0.0|\n",
      "+--------+--------------------+---------------------+------------------+----------+------------+------------+---------------+-------------+-----------+-----+-------+----------+------------+---------+---------------------+------------+------------+---------+--------------------+\n",
      "only showing top 20 rows\n",
      "\n"
     ]
    }
   ],
   "source": [
    "df_green.show()"
   ]
  },
  {
   "cell_type": "code",
   "execution_count": 4,
   "id": "02036d4c",
   "metadata": {},
   "outputs": [
    {
     "name": "stdout",
     "output_type": "stream",
     "text": [
      "root\n",
      " |-- VendorID: integer (nullable = true)\n",
      " |-- lpep_pickup_datetime: timestamp (nullable = true)\n",
      " |-- lpep_dropoff_datetime: timestamp (nullable = true)\n",
      " |-- store_and_fwd_flag: string (nullable = true)\n",
      " |-- RatecodeID: integer (nullable = true)\n",
      " |-- PULocationID: integer (nullable = true)\n",
      " |-- DOLocationID: integer (nullable = true)\n",
      " |-- passenger_count: integer (nullable = true)\n",
      " |-- trip_distance: double (nullable = true)\n",
      " |-- fare_amount: double (nullable = true)\n",
      " |-- extra: double (nullable = true)\n",
      " |-- mta_tax: double (nullable = true)\n",
      " |-- tip_amount: double (nullable = true)\n",
      " |-- tolls_amount: double (nullable = true)\n",
      " |-- ehail_fee: double (nullable = true)\n",
      " |-- improvement_surcharge: double (nullable = true)\n",
      " |-- total_amount: double (nullable = true)\n",
      " |-- payment_type: integer (nullable = true)\n",
      " |-- trip_type: integer (nullable = true)\n",
      " |-- congestion_surcharge: double (nullable = true)\n",
      "\n"
     ]
    }
   ],
   "source": [
    "df_green.printSchema()"
   ]
  },
  {
   "cell_type": "code",
   "execution_count": 6,
   "id": "bd4da62e",
   "metadata": {},
   "outputs": [],
   "source": [
    "df_yellow = spark.read.parquet('data/pq/yellow/*/*')"
   ]
  },
  {
   "cell_type": "code",
   "execution_count": 7,
   "id": "fec0b8da",
   "metadata": {},
   "outputs": [
    {
     "name": "stdout",
     "output_type": "stream",
     "text": [
      "+--------+--------------------+---------------------+---------------+-------------+----------+------------------+------------+------------+------------+-----------+-----+-------+----------+------------+---------------------+------------+--------------------+\n",
      "|VendorID|tpep_pickup_datetime|tpep_dropoff_datetime|passenger_count|trip_distance|RatecodeID|store_and_fwd_flag|PULocationID|DOLocationID|payment_type|fare_amount|extra|mta_tax|tip_amount|tolls_amount|improvement_surcharge|total_amount|congestion_surcharge|\n",
      "+--------+--------------------+---------------------+---------------+-------------+----------+------------------+------------+------------+------------+-----------+-----+-------+----------+------------+---------------------+------------+--------------------+\n",
      "|       2| 2020-01-21 11:01:28|  2020-01-21 11:18:34|              1|         3.01|         1|                 N|         137|         232|           1|       14.5|  0.0|    0.5|       3.0|         0.0|                  0.3|        20.8|                 2.5|\n",
      "|       1| 2020-01-24 17:59:45|  2020-01-24 18:07:16|              1|          0.8|         1|                 N|         137|          79|           1|        6.5|  3.5|    0.5|      1.62|         0.0|                  0.3|       12.42|                 2.5|\n",
      "|       1| 2020-01-08 18:45:21|  2020-01-08 18:51:18|              1|          0.8|         1|                 N|          90|          68|           1|        5.5|  3.5|    0.5|       1.0|         0.0|                  0.3|        10.8|                 2.5|\n",
      "|       2| 2020-01-06 08:03:37|  2020-01-06 08:09:02|              1|         0.72|         1|                 N|         114|         114|           2|        5.5|  0.0|    0.5|       0.0|         0.0|                  0.3|         8.8|                 2.5|\n",
      "|       2| 2020-01-15 22:25:36|  2020-01-15 22:35:17|              2|         1.36|         1|                 N|         170|          50|           1|        8.0|  0.5|    0.5|      2.36|         0.0|                  0.3|       14.16|                 2.5|\n",
      "|    null| 2020-01-21 15:40:00|  2020-01-21 17:00:00|           null|        22.57|      null|              null|         162|         265|        null|      68.83| 2.75|    0.5|       0.0|        6.12|                  0.3|        78.5|                 0.0|\n",
      "|       1| 2020-01-21 11:56:16|  2020-01-21 12:14:10|              3|          2.0|         1|                 N|         143|         141|           1|       12.5|  2.5|    0.5|       1.0|         0.0|                  0.3|        16.8|                 2.5|\n",
      "|       2| 2020-01-21 16:20:07|  2020-01-21 16:32:59|              1|         2.47|         1|                 N|         125|          48|           1|       11.0|  1.0|    0.5|       2.8|         0.0|                  0.3|        18.1|                 2.5|\n",
      "|       1| 2020-01-22 14:52:04|  2020-01-22 14:56:12|              2|          0.3|         1|                 N|         143|         142|           1|        4.5|  2.5|    0.5|       1.0|         0.0|                  0.3|         8.8|                 2.5|\n",
      "|       1| 2020-01-08 18:20:36|  2020-01-08 18:27:56|              0|          0.7|         1|                 N|         237|         237|           1|        6.5|  3.5|    0.5|      2.15|         0.0|                  0.3|       12.95|                 2.5|\n",
      "|       1| 2020-01-16 15:44:17|  2020-01-16 15:52:32|              1|          0.9|         1|                 N|         238|         151|           1|        7.0|  2.5|    0.5|      2.05|         0.0|                  0.3|       12.35|                 2.5|\n",
      "|       1| 2020-01-09 01:22:06|  2020-01-09 01:27:30|              1|          1.2|         1|                 N|          50|         143|           1|        6.0|  3.0|    0.5|      1.95|         0.0|                  0.3|       11.75|                 2.5|\n",
      "|       2| 2020-01-07 20:26:18|  2020-01-07 20:33:10|              1|         0.89|         1|                 N|          79|          79|           1|        6.5|  0.5|    0.5|      2.58|         0.0|                  0.3|       12.88|                 2.5|\n",
      "|       2| 2020-01-10 10:33:03|  2020-01-10 10:47:32|              1|         2.47|         1|                 N|         236|         161|           1|       11.5|  0.0|    0.5|      2.96|         0.0|                  0.3|       17.76|                 2.5|\n",
      "|       1| 2020-01-07 17:39:18|  2020-01-07 17:55:45|              2|          2.1|         1|                 N|          79|         209|           1|       12.0|  3.5|    0.5|      2.45|         0.0|                  0.3|       18.75|                 2.5|\n",
      "|       1| 2020-01-02 12:11:15|  2020-01-02 12:16:22|              1|          1.8|         1|                 N|         137|         229|           1|        7.0|  2.5|    0.5|       1.0|         0.0|                  0.3|        11.3|                 2.5|\n",
      "|       2| 2020-01-15 16:26:38|  2020-01-15 16:58:37|              1|         6.72|         1|                 N|          79|         238|           2|       25.0|  1.0|    0.5|       0.0|         0.0|                  0.3|        29.3|                 2.5|\n",
      "|       1| 2020-01-08 12:25:43|  2020-01-08 12:38:41|              1|          1.7|         1|                 N|         170|         246|           2|        9.5|  2.5|    0.5|       0.0|         0.0|                  0.3|        12.8|                 2.5|\n",
      "|       2| 2020-01-08 18:29:42|  2020-01-08 18:56:29|              1|        11.46|         1|                 N|         233|         252|           2|       32.0|  1.0|    0.5|       0.0|        6.12|                  0.3|       42.42|                 2.5|\n",
      "|       1| 2020-01-19 20:07:44|  2020-01-19 20:14:06|              2|          1.5|         1|                 N|         237|         236|           1|        7.0|  3.0|    0.5|       5.0|         0.0|                  0.3|        15.8|                 2.5|\n",
      "+--------+--------------------+---------------------+---------------+-------------+----------+------------------+------------+------------+------------+-----------+-----+-------+----------+------------+---------------------+------------+--------------------+\n",
      "only showing top 20 rows\n",
      "\n"
     ]
    }
   ],
   "source": [
    "df_yellow.show()"
   ]
  },
  {
   "cell_type": "code",
   "execution_count": 8,
   "id": "0376d481",
   "metadata": {},
   "outputs": [
    {
     "name": "stdout",
     "output_type": "stream",
     "text": [
      "root\n",
      " |-- VendorID: integer (nullable = true)\n",
      " |-- tpep_pickup_datetime: timestamp (nullable = true)\n",
      " |-- tpep_dropoff_datetime: timestamp (nullable = true)\n",
      " |-- passenger_count: integer (nullable = true)\n",
      " |-- trip_distance: double (nullable = true)\n",
      " |-- RatecodeID: integer (nullable = true)\n",
      " |-- store_and_fwd_flag: string (nullable = true)\n",
      " |-- PULocationID: integer (nullable = true)\n",
      " |-- DOLocationID: integer (nullable = true)\n",
      " |-- payment_type: integer (nullable = true)\n",
      " |-- fare_amount: double (nullable = true)\n",
      " |-- extra: double (nullable = true)\n",
      " |-- mta_tax: double (nullable = true)\n",
      " |-- tip_amount: double (nullable = true)\n",
      " |-- tolls_amount: double (nullable = true)\n",
      " |-- improvement_surcharge: double (nullable = true)\n",
      " |-- total_amount: double (nullable = true)\n",
      " |-- congestion_surcharge: double (nullable = true)\n",
      "\n"
     ]
    }
   ],
   "source": [
    "df_yellow.printSchema()"
   ]
  },
  {
   "cell_type": "code",
   "execution_count": 10,
   "id": "94cfdf4a",
   "metadata": {},
   "outputs": [
    {
     "data": {
      "text/plain": [
       "['VendorID',\n",
       " 'lpep_pickup_datetime',\n",
       " 'lpep_dropoff_datetime',\n",
       " 'store_and_fwd_flag',\n",
       " 'RatecodeID',\n",
       " 'PULocationID',\n",
       " 'DOLocationID',\n",
       " 'passenger_count',\n",
       " 'trip_distance',\n",
       " 'fare_amount',\n",
       " 'extra',\n",
       " 'mta_tax',\n",
       " 'tip_amount',\n",
       " 'tolls_amount',\n",
       " 'ehail_fee',\n",
       " 'improvement_surcharge',\n",
       " 'total_amount',\n",
       " 'payment_type',\n",
       " 'trip_type',\n",
       " 'congestion_surcharge']"
      ]
     },
     "execution_count": 10,
     "metadata": {},
     "output_type": "execute_result"
    }
   ],
   "source": [
    "df_green.columns"
   ]
  },
  {
   "cell_type": "code",
   "execution_count": 11,
   "id": "6a2a62f0",
   "metadata": {},
   "outputs": [
    {
     "data": {
      "text/plain": [
       "['VendorID',\n",
       " 'tpep_pickup_datetime',\n",
       " 'tpep_dropoff_datetime',\n",
       " 'passenger_count',\n",
       " 'trip_distance',\n",
       " 'RatecodeID',\n",
       " 'store_and_fwd_flag',\n",
       " 'PULocationID',\n",
       " 'DOLocationID',\n",
       " 'payment_type',\n",
       " 'fare_amount',\n",
       " 'extra',\n",
       " 'mta_tax',\n",
       " 'tip_amount',\n",
       " 'tolls_amount',\n",
       " 'improvement_surcharge',\n",
       " 'total_amount',\n",
       " 'congestion_surcharge']"
      ]
     },
     "execution_count": 11,
     "metadata": {},
     "output_type": "execute_result"
    }
   ],
   "source": [
    "df_yellow.columns"
   ]
  },
  {
   "cell_type": "code",
   "execution_count": 12,
   "id": "9c72a694",
   "metadata": {},
   "outputs": [
    {
     "data": {
      "text/plain": [
       "{'DOLocationID',\n",
       " 'PULocationID',\n",
       " 'RatecodeID',\n",
       " 'VendorID',\n",
       " 'congestion_surcharge',\n",
       " 'ehail_fee',\n",
       " 'extra',\n",
       " 'fare_amount',\n",
       " 'improvement_surcharge',\n",
       " 'lpep_dropoff_datetime',\n",
       " 'lpep_pickup_datetime',\n",
       " 'mta_tax',\n",
       " 'passenger_count',\n",
       " 'payment_type',\n",
       " 'store_and_fwd_flag',\n",
       " 'tip_amount',\n",
       " 'tolls_amount',\n",
       " 'total_amount',\n",
       " 'trip_distance',\n",
       " 'trip_type'}"
      ]
     },
     "execution_count": 12,
     "metadata": {},
     "output_type": "execute_result"
    }
   ],
   "source": [
    "set(df_green.columns)"
   ]
  },
  {
   "cell_type": "code",
   "execution_count": 13,
   "id": "35b34cf1",
   "metadata": {},
   "outputs": [
    {
     "data": {
      "text/plain": [
       "{'DOLocationID',\n",
       " 'PULocationID',\n",
       " 'RatecodeID',\n",
       " 'VendorID',\n",
       " 'congestion_surcharge',\n",
       " 'extra',\n",
       " 'fare_amount',\n",
       " 'improvement_surcharge',\n",
       " 'mta_tax',\n",
       " 'passenger_count',\n",
       " 'payment_type',\n",
       " 'store_and_fwd_flag',\n",
       " 'tip_amount',\n",
       " 'tolls_amount',\n",
       " 'total_amount',\n",
       " 'tpep_dropoff_datetime',\n",
       " 'tpep_pickup_datetime',\n",
       " 'trip_distance'}"
      ]
     },
     "execution_count": 13,
     "metadata": {},
     "output_type": "execute_result"
    }
   ],
   "source": [
    "set(df_yellow.columns)"
   ]
  },
  {
   "cell_type": "code",
   "execution_count": 17,
   "id": "d2634ed3",
   "metadata": {},
   "outputs": [
    {
     "data": {
      "text/plain": [
       "{'DOLocationID',\n",
       " 'PULocationID',\n",
       " 'RatecodeID',\n",
       " 'VendorID',\n",
       " 'congestion_surcharge',\n",
       " 'dropoff_datetime',\n",
       " 'extra',\n",
       " 'fare_amount',\n",
       " 'improvement_surcharge',\n",
       " 'mta_tax',\n",
       " 'passenger_count',\n",
       " 'payment_type',\n",
       " 'pickup_datetime',\n",
       " 'store_and_fwd_flag',\n",
       " 'tip_amount',\n",
       " 'tolls_amount',\n",
       " 'total_amount',\n",
       " 'trip_distance'}"
      ]
     },
     "execution_count": 17,
     "metadata": {},
     "output_type": "execute_result"
    }
   ],
   "source": [
    "set(df_green.columns) & set(df_yellow.columns)"
   ]
  },
  {
   "cell_type": "code",
   "execution_count": null,
   "id": "7ac56b09",
   "metadata": {},
   "outputs": [],
   "source": []
  },
  {
   "cell_type": "code",
   "execution_count": 28,
   "id": "0c1c628b",
   "metadata": {},
   "outputs": [],
   "source": [
    "df_green = df_green \\\n",
    "    .withColumnRenamed('lpep_pickup_datetime', 'pickup_datetime') \\\n",
    "    .withColumnRenamed('lpep_dropoff_datetime', 'dropoff_datetime')"
   ]
  },
  {
   "cell_type": "code",
   "execution_count": 16,
   "id": "ca099a13",
   "metadata": {},
   "outputs": [],
   "source": [
    "df_yellow = df_yellow \\\n",
    "    .withColumnRenamed('tpep_pickup_datetime', 'pickup_datetime') \\\n",
    "    .withColumnRenamed('tpep_dropoff_datetime', 'dropoff_datetime')"
   ]
  },
  {
   "cell_type": "code",
   "execution_count": 18,
   "id": "c544e7ff",
   "metadata": {},
   "outputs": [],
   "source": [
    "common_columns = []\n",
    "\n",
    "yellow_columns = set(df_yellow.columns)\n",
    "\n",
    "for col in df_green.columns:\n",
    "        if col in yellow_columns:\n",
    "            common_columns.append(col)"
   ]
  },
  {
   "cell_type": "code",
   "execution_count": 20,
   "id": "c36a4e97",
   "metadata": {},
   "outputs": [
    {
     "data": {
      "text/plain": [
       "['VendorID',\n",
       " 'pickup_datetime',\n",
       " 'dropoff_datetime',\n",
       " 'store_and_fwd_flag',\n",
       " 'RatecodeID',\n",
       " 'PULocationID',\n",
       " 'DOLocationID',\n",
       " 'passenger_count',\n",
       " 'trip_distance',\n",
       " 'fare_amount',\n",
       " 'extra',\n",
       " 'mta_tax',\n",
       " 'tip_amount',\n",
       " 'tolls_amount',\n",
       " 'improvement_surcharge',\n",
       " 'total_amount',\n",
       " 'payment_type',\n",
       " 'congestion_surcharge']"
      ]
     },
     "execution_count": 20,
     "metadata": {},
     "output_type": "execute_result"
    }
   ],
   "source": [
    "common_columns"
   ]
  },
  {
   "cell_type": "code",
   "execution_count": 23,
   "id": "df2a6a75",
   "metadata": {},
   "outputs": [],
   "source": [
    "from pyspark.sql import functions as F"
   ]
  },
  {
   "cell_type": "code",
   "execution_count": 31,
   "id": "56057e13",
   "metadata": {},
   "outputs": [],
   "source": [
    "df_green_sel = df_green \\\n",
    "    .select(common_columns) \\\n",
    "    .withColumn('service_type', F.lit('green'))"
   ]
  },
  {
   "cell_type": "code",
   "execution_count": 32,
   "id": "f4c00aa9",
   "metadata": {},
   "outputs": [],
   "source": [
    "df_yellow_sel = df_yellow \\\n",
    "    .select(common_columns) \\\n",
    "    .withColumn('service_type', F.lit('yellow'))"
   ]
  },
  {
   "cell_type": "code",
   "execution_count": 33,
   "id": "43ac9847",
   "metadata": {},
   "outputs": [],
   "source": [
    "df_trips_data = df_green_sel.unionAll(df_yellow_sel)"
   ]
  },
  {
   "cell_type": "code",
   "execution_count": 34,
   "id": "49160fb3",
   "metadata": {},
   "outputs": [
    {
     "name": "stderr",
     "output_type": "stream",
     "text": [
      "[Stage 6:=================================================>       (14 + 2) / 16]\r"
     ]
    },
    {
     "name": "stdout",
     "output_type": "stream",
     "text": [
      "+------------+--------+\n",
      "|service_type|   count|\n",
      "+------------+--------+\n",
      "|       green| 2304517|\n",
      "|      yellow|39649199|\n",
      "+------------+--------+\n",
      "\n"
     ]
    },
    {
     "name": "stderr",
     "output_type": "stream",
     "text": [
      "\r",
      "                                                                                \r"
     ]
    }
   ],
   "source": [
    "df_trips_data.groupBy('service_type').count().show()"
   ]
  },
  {
   "cell_type": "code",
   "execution_count": 36,
   "id": "6f896d4d",
   "metadata": {},
   "outputs": [
    {
     "name": "stderr",
     "output_type": "stream",
     "text": [
      "/home/udengine/spark/spark-3.3.2-bin-hadoop3/python/pyspark/sql/dataframe.py:229: FutureWarning: Deprecated in 2.0, use createOrReplaceTempView instead.\n",
      "  warnings.warn(\"Deprecated in 2.0, use createOrReplaceTempView instead.\", FutureWarning)\n"
     ]
    }
   ],
   "source": [
    "df_trips_data.registerTempTable('trips_data')"
   ]
  },
  {
   "cell_type": "code",
   "execution_count": 38,
   "id": "7e3da4c9",
   "metadata": {},
   "outputs": [
    {
     "name": "stderr",
     "output_type": "stream",
     "text": [
      "\r",
      "[Stage 9:================================>                         (9 + 4) / 16]\r",
      "\r",
      "[Stage 9:=====================================================>   (15 + 1) / 16]\r"
     ]
    },
    {
     "name": "stdout",
     "output_type": "stream",
     "text": [
      "+--------+-------------------+-------------------+------------------+----------+------------+------------+---------------+-------------+-----------+-----+-------+----------+------------+---------------------+------------+------------+--------------------+------------+\n",
      "|VendorID|    pickup_datetime|   dropoff_datetime|store_and_fwd_flag|RatecodeID|PULocationID|DOLocationID|passenger_count|trip_distance|fare_amount|extra|mta_tax|tip_amount|tolls_amount|improvement_surcharge|total_amount|payment_type|congestion_surcharge|service_type|\n",
      "+--------+-------------------+-------------------+------------------+----------+------------+------------+---------------+-------------+-----------+-----+-------+----------+------------+---------------------+------------+------------+--------------------+------------+\n",
      "|       2|2020-01-16 23:31:44|2020-01-16 23:46:21|                 N|         1|          65|          56|              1|          8.6|       24.5|  0.5|    0.5|       0.0|         0.0|                  0.3|        25.8|           2|                 0.0|       green|\n",
      "|       2|2020-01-14 15:01:42|2020-01-14 15:28:14|                 N|         1|         129|         141|              5|         5.16|       20.5|  0.0|    0.5|       0.0|         0.0|                  0.3|       24.05|           2|                2.75|       green|\n",
      "|    null|2020-01-24 05:55:00|2020-01-24 06:26:00|              null|      null|         242|         261|           null|        16.27|       53.2| 2.75|    0.5|       0.0|        6.12|                  0.3|       62.87|        null|                null|       green|\n",
      "|       2|2020-01-31 08:19:03|2020-01-31 08:24:35|                 N|         1|         166|         238|              1|         1.42|        6.5|  0.0|    0.5|      1.46|         0.0|                  0.3|        8.76|           1|                 0.0|       green|\n",
      "|    null|2020-01-12 18:54:00|2020-01-12 19:11:00|              null|      null|          41|         235|           null|         4.62|      14.24|  0.0|    0.0|       0.0|         0.0|                  0.3|       14.54|        null|                null|       green|\n",
      "|       2|2020-01-11 17:13:41|2020-01-11 17:33:40|                 N|         1|          66|          49|              6|         2.67|       14.5|  0.0|    0.5|      3.06|         0.0|                  0.3|       18.36|           1|                 0.0|       green|\n",
      "|       2|2020-01-29 19:23:03|2020-01-29 19:29:47|                 N|         1|         260|         226|              2|         0.64|        6.0|  1.0|    0.5|       1.0|         0.0|                  0.3|         8.8|           1|                 0.0|       green|\n",
      "|       2|2020-01-26 11:45:13|2020-01-26 11:47:10|                 N|         1|         116|         116|              1|         0.43|        3.5|  0.0|    0.5|       0.0|         0.0|                  0.3|         4.3|           2|                 0.0|       green|\n",
      "|       2|2020-01-03 08:58:57|2020-01-03 09:07:19|                 N|         1|          74|          75|              1|         1.38|        7.0|  0.0|    0.5|       0.0|         0.0|                  0.3|         7.8|           2|                 0.0|       green|\n",
      "|       2|2020-01-27 21:56:19|2020-01-27 22:01:04|                 N|         1|          41|          74|              1|          1.0|        5.5|  0.5|    0.5|      1.02|         0.0|                  0.3|        7.82|           1|                 0.0|       green|\n",
      "+--------+-------------------+-------------------+------------------+----------+------------+------------+---------------+-------------+-----------+-----+-------+----------+------------+---------------------+------------+------------+--------------------+------------+\n",
      "\n"
     ]
    },
    {
     "name": "stderr",
     "output_type": "stream",
     "text": [
      "\r",
      "                                                                                \r"
     ]
    }
   ],
   "source": [
    "spark.sql(\"\"\"\n",
    "SELECT * FROM trips_data LIMIT 10;\n",
    "\"\"\").show()"
   ]
  },
  {
   "cell_type": "code",
   "execution_count": 39,
   "id": "838b8555",
   "metadata": {},
   "outputs": [
    {
     "name": "stderr",
     "output_type": "stream",
     "text": [
      "[Stage 12:======================================>                 (11 + 4) / 16]\r"
     ]
    },
    {
     "name": "stdout",
     "output_type": "stream",
     "text": [
      "+------------+--------+\n",
      "|service_type|count(1)|\n",
      "+------------+--------+\n",
      "|       green| 2304517|\n",
      "|      yellow|39649199|\n",
      "+------------+--------+\n",
      "\n"
     ]
    },
    {
     "name": "stderr",
     "output_type": "stream",
     "text": [
      "\r",
      "[Stage 12:=================================================>      (14 + 2) / 16]\r",
      "\r",
      "                                                                                \r"
     ]
    }
   ],
   "source": [
    "spark.sql(\"\"\"\n",
    "SELECT service_type, count(1)\n",
    "FROM trips_data\n",
    "GROUP BY service_type\n",
    "\"\"\").show()"
   ]
  },
  {
   "cell_type": "code",
   "execution_count": 43,
   "id": "d81f8751",
   "metadata": {},
   "outputs": [],
   "source": [
    "df_result = spark.sql(\"\"\"\n",
    "SELECT \n",
    "   -- Reveneue grouping \n",
    "   PULocationID AS revenue_zone,\n",
    "   date_trunc('month', pickup_datetime) AS revenue_month, \n",
    "   service_type, \n",
    "   \n",
    "   -- Revenue calculation \n",
    "   SUM(fare_amount) AS revenue_monthly_fare,\n",
    "   SUM(extra) AS revenue_monthly_extra,\n",
    "   SUM(mta_tax) AS revenue_monthly_mta_tax,\n",
    "   SUM(tip_amount) AS revenue_monthly_tip_amount,\n",
    "   SUM(tolls_amount) AS revenue_monthly_tolls_amount,\n",
    "   SUM(improvement_surcharge) AS revenue_monthly_improvement_surcharge,\n",
    "   SUM(total_amount) AS revenue_monthly_total_amount,\n",
    "   SUM(congestion_surcharge) AS revenue_monthly_congestion_surcharge,\n",
    "   \n",
    "   -- Additional calculations\n",
    "   AVG(passenger_count) AS avg_montly_passenger_count,\n",
    "   AVG(trip_distance) AS avg_montly_trip_distance\n",
    "\n",
    "FROM trips_data\n",
    "GROUP BY \n",
    "   1, 2, 3\n",
    "\n",
    "\"\"\")"
   ]
  },
  {
   "cell_type": "code",
   "execution_count": 45,
   "id": "e87cd07c",
   "metadata": {},
   "outputs": [
    {
     "name": "stderr",
     "output_type": "stream",
     "text": [
      "[Stage 15:====================================================>   (15 + 1) / 16]\r"
     ]
    },
    {
     "name": "stdout",
     "output_type": "stream",
     "text": [
      "+------------+-------------------+------------+--------------------+---------------------+-----------------------+--------------------------+----------------------------+-------------------------------------+----------------------------+------------------------------------+--------------------------+------------------------+\n",
      "|revenue_zone|      revenue_month|service_type|revenue_monthly_fare|revenue_monthly_extra|revenue_monthly_mta_tax|revenue_monthly_tip_amount|revenue_monthly_tolls_amount|revenue_monthly_improvement_surcharge|revenue_monthly_total_amount|revenue_monthly_congestion_surcharge|avg_montly_passenger_count|avg_montly_trip_distance|\n",
      "+------------+-------------------+------------+--------------------+---------------------+-----------------------+--------------------------+----------------------------+-------------------------------------+----------------------------+------------------------------------+--------------------------+------------------------+\n",
      "|         250|2020-01-01 00:00:00|       green|  19288.010000000057|              1266.75|                  171.5|         47.57000000000001|           978.4800000000006|                   226.20000000000286|          21984.359999999928|                                 0.0|         1.355072463768116|        5.27563015312132|\n",
      "|          12|2020-01-01 00:00:00|       green|              161.01|                  5.5|                    1.0|                       0.0|                       12.24|                                  1.2|                      180.95|                                null|                      null|      0.7150000000000007|\n",
      "|         148|2020-01-01 00:00:00|       green|  1506.7899999999997|                 83.5|                    3.5|                       0.0|          48.959999999999994|                   14.400000000000013|          1657.1500000000005|                                 0.0|                       1.0|       7.221875000000002|\n",
      "|         188|2020-02-01 00:00:00|       green|    45876.0200000001|               4048.5|                  480.0|         512.0100000000001|           550.7200000000005|                    588.6000000000021|           52174.29999999988|                                66.0|        1.1980874316939891|       3.839839243498818|\n",
      "|           7|2020-03-01 00:00:00|       green|   76390.65999999993|              2712.25|                 3488.5|         6102.550000000001|           882.6300000000006|                   2203.4999999998754|            93256.0400000091|                             1443.75|         1.460755197284684|       2.296466063958982|\n",
      "|         128|2020-02-01 00:00:00|       green|  2242.7000000000003|               114.75|                   34.5|         78.99000000000002|           70.11999999999999|                   28.500000000000046|          2598.1099999999997|                               13.75|        1.0151515151515151|       5.076407766990291|\n",
      "|         118|2020-03-01 00:00:00|       green|               218.3|                  1.5|                    1.5|                     12.22|                         0.0|                                  1.8|                      235.32|                                 0.0|                      2.25|       7.208333333333333|\n",
      "|          58|2020-10-01 00:00:00|       green|              225.51|                  0.0|                    0.0|                      26.0|                        6.12|                   2.6999999999999997|                      263.08|                                null|                      null|        5.84111111111111|\n",
      "|         165|2020-01-01 00:00:00|       green|  24802.129999999972|               1549.0|                  189.5|        101.14999999999999|          495.95000000000033|                   268.80000000000445|           27427.27999999991|                                11.0|        1.1891891891891893|       4.462666025024059|\n",
      "|          88|2020-01-01 00:00:00|       green|   4146.879999999999|               223.75|                   16.0|                       0.0|           273.0900000000001|                    30.30000000000005|           4690.020000000001|                                 0.0|                       1.0|      11.439108910891084|\n",
      "|         216|2020-02-01 00:00:00|       green|  19758.420000000046|               1245.0|                  110.0|        102.96000000000001|           424.2500000000003|                    195.3000000000017|          21843.379999999932|                                 5.5|        1.1793893129770991|       6.703884785819801|\n",
      "|          73|2020-03-01 00:00:00|       green|             1188.69|                 8.25|                    9.5|                      12.9|          48.959999999999994|                   18.900000000000023|          1287.1999999999994|                                 0.0|        1.0952380952380953|       5.374444444444445|\n",
      "|          64|2020-01-01 00:00:00|       green|   4218.469999999997|               273.25|                   20.0|                      3.26|          128.52000000000004|                    41.69999999999996|           4687.150000000002|                                 0.0|        1.4583333333333333|       6.679932885906039|\n",
      "|         181|2020-10-01 00:00:00|       green|  19117.400000000016|                142.5|                  239.5|         2084.580000000001|          212.13000000000002|                   300.60000000000264|          22221.459999999963|                                90.5|        1.1533742331288344|       3.681545363908275|\n",
      "|          48|2020-01-01 00:00:00|       green|   3266.299999999999|                220.0|                   19.0|                       0.0|          128.00000000000003|                   32.700000000000045|                      3666.0|                                 0.0|                       1.0|        7.99761467889908|\n",
      "|         113|2020-01-01 00:00:00|       green|             1049.91|                 78.0|                    3.0|                       0.0|                       36.72|                   10.800000000000004|                     1178.43|                                 0.0|                       2.0|       7.130833333333332|\n",
      "|         168|2019-12-01 00:00:00|       green|                20.0|                  0.5|                    0.5|                       0.0|                         0.0|                                  0.3|                        21.3|                                 0.0|                       1.0|                    6.54|\n",
      "|         204|2020-02-01 00:00:00|       green|              101.96|                 2.75|                    0.5|                       0.0|                       12.24|                                  0.3|                      117.75|                                null|                      null|                   35.62|\n",
      "|         206|2020-03-01 00:00:00|       green|  393.16999999999996|                  3.5|                    3.5|                      7.96|           72.46000000000001|                    3.599999999999999|          484.19000000000005|                                 0.0|        3.2857142857142856|       9.602500000000001|\n",
      "|          92|2020-02-01 00:00:00|       green|   58603.95999999994|              2375.25|                 1217.0|         2973.050000000001|           796.6300000000005|                    921.2999999999516|           67048.79000000213|                              151.25|        1.1366245694603903|       4.383409018228328|\n",
      "+------------+-------------------+------------+--------------------+---------------------+-----------------------+--------------------------+----------------------------+-------------------------------------+----------------------------+------------------------------------+--------------------------+------------------------+\n",
      "only showing top 20 rows\n",
      "\n"
     ]
    },
    {
     "name": "stderr",
     "output_type": "stream",
     "text": [
      "\r",
      "                                                                                \r"
     ]
    }
   ],
   "source": [
    "df_result.show()"
   ]
  },
  {
   "cell_type": "code",
   "execution_count": 46,
   "id": "3190086e",
   "metadata": {},
   "outputs": [
    {
     "name": "stderr",
     "output_type": "stream",
     "text": [
      "                                                                                \r"
     ]
    }
   ],
   "source": [
    "df_result.write.parquet('data/report/revenue/')"
   ]
  },
  {
   "cell_type": "code",
   "execution_count": null,
   "id": "60227159",
   "metadata": {},
   "outputs": [],
   "source": [
    "df_result.coaslesce(1).write.parquet('data/report/revenue/', mode='overwrite')"
   ]
  },
  {
   "cell_type": "code",
   "execution_count": null,
   "id": "5ba6db27",
   "metadata": {},
   "outputs": [],
   "source": []
  }
 ],
 "metadata": {
  "kernelspec": {
   "display_name": "Python 3 (ipykernel)",
   "language": "python",
   "name": "python3"
  },
  "language_info": {
   "codemirror_mode": {
    "name": "ipython",
    "version": 3
   },
   "file_extension": ".py",
   "mimetype": "text/x-python",
   "name": "python",
   "nbconvert_exporter": "python",
   "pygments_lexer": "ipython3",
   "version": "3.9.13"
  }
 },
 "nbformat": 4,
 "nbformat_minor": 5
}
